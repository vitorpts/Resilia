{
  "cells": [
    {
      "cell_type": "markdown",
      "metadata": {
        "id": "DFb3ORQ7E2DZ"
      },
      "source": [
        "#<font color = orange> Projeto Individual Resilia Módulo 4\n"
      ]
    },
    {
      "cell_type": "markdown",
      "metadata": {
        "id": "sMm5gL2TFB2A"
      },
      "source": [
        "###<font color = yellow>  Importando Pandas"
      ]
    },
    {
      "cell_type": "code",
      "execution_count": 7,
      "metadata": {
        "id": "nk8AycbzEwWe"
      },
      "outputs": [],
      "source": [
        "import pandas as pd\n"
      ]
    },
    {
      "cell_type": "markdown",
      "metadata": {
        "id": "-gWy58F2Gbp5"
      },
      "source": [
        "###<font color = yellow> Criando a tabela de acordo com os dados informados"
      ]
    },
    {
      "cell_type": "code",
      "execution_count": null,
      "metadata": {
        "id": "ibkxzQU6E08r"
      },
      "outputs": [],
      "source": [
        "tabela = {'Dia': ['Segunda', 'Terça', 'Quarta', 'Quinta', 'Sexta', 'Sábado', 'Domingo'],\n",
        "          'Horas Trabalhas': [5,7,8,6,7,5,4],\n",
        "          'Bugs Corrigidos': [3,2,1,4,3,2,1],\n",
        "          'Tarefas Concluídas': [5,4,6,4,5,3,2]}\n",
        "tabela = pd.DataFrame(tabela, index = [0,1,2,3,4,5,6])\n",
        "tabela"
      ]
    },
    {
      "cell_type": "markdown",
      "metadata": {
        "id": "YMIQUY-EHg3I"
      },
      "source": [
        "###<font color = yellow> Relatório"
      ]
    },
    {
      "cell_type": "markdown",
      "metadata": {
        "id": "l8TKzSB5HtOA"
      },
      "source": [
        "- <font color = green>  Total de Horas Trabalhas"
      ]
    },
    {
      "cell_type": "code",
      "execution_count": null,
      "metadata": {
        "id": "KEjju_H9Hsz4"
      },
      "outputs": [],
      "source": [
        "horasoma = tabela['Horas Trabalhas'].sum()\n",
        "print(f'O total de horas trabalhas é {horasoma} horas')"
      ]
    },
    {
      "cell_type": "markdown",
      "metadata": {
        "id": "bGlmwhcEIcfR"
      },
      "source": [
        "- <font color = green> Média Diária de Horas Trabalhas"
      ]
    },
    {
      "cell_type": "code",
      "execution_count": null,
      "metadata": {
        "id": "HF51SUaiIhJP"
      },
      "outputs": [],
      "source": [
        "horamedia = tabela['Horas Trabalhas'].mean()\n",
        "print(f'A média diária trabalhada é {horamedia} horas')"
      ]
    },
    {
      "cell_type": "markdown",
      "metadata": {
        "id": "SN1E7wpIJP9o"
      },
      "source": [
        "- <font color = green> Total de Bugs Corridos"
      ]
    },
    {
      "cell_type": "code",
      "execution_count": null,
      "metadata": {
        "id": "Mp6HhcOrJ2pj"
      },
      "outputs": [],
      "source": [
        "bugsoma = tabela['Bugs Corrigidos'].sum()\n",
        "print(f'O total de bugs corrigos foram de {bugsoma}')"
      ]
    },
    {
      "cell_type": "markdown",
      "metadata": {
        "id": "SQbg9IpdKDuA"
      },
      "source": [
        "- <font color = green> Média Diária de Bugs Corrigidos"
      ]
    },
    {
      "cell_type": "code",
      "execution_count": 29,
      "metadata": {
        "colab": {
          "base_uri": "https://localhost:8080/"
        },
        "id": "8sjE8E5QKKif",
        "outputId": "6b17c03b-6087-462c-ea55-a0d37ec3fe47"
      },
      "outputs": [
        {
          "name": "stdout",
          "output_type": "stream",
          "text": [
            "A média diária de bugs corrigidos é de 2.2857142857142856\n"
          ]
        }
      ],
      "source": [
        "bugmedia = tabela['Bugs Corrigidos'].mean()\n",
        "print(f'A média diária de bugs corrigidos é de {bugmedia}')"
      ]
    },
    {
      "cell_type": "markdown",
      "metadata": {
        "id": "5S0_XDBdK-MA"
      },
      "source": [
        "- <font color = green> Total de Tarefas Concluídas"
      ]
    },
    {
      "cell_type": "code",
      "execution_count": null,
      "metadata": {
        "id": "HotfjXKcLEoR"
      },
      "outputs": [],
      "source": [
        "tarefasoma = tabela['Tarefas Concluídas'].sum()\n",
        "print(f'O total de tarefas concluidas foi de {tarefasoma}')"
      ]
    },
    {
      "cell_type": "markdown",
      "metadata": {
        "id": "uCA8UsDXLXCA"
      },
      "source": [
        "- <font color = green> Média Diária de Tarefas Concluídas"
      ]
    },
    {
      "cell_type": "code",
      "execution_count": null,
      "metadata": {
        "id": "0icQFxu_Lc5I"
      },
      "outputs": [],
      "source": [
        "tarefamedia = tabela['Tarefas Concluídas'].mean()\n",
        "print(f'A média diária de tarefas concluidas é de {tarefamedia}')"
      ]
    },
    {
      "cell_type": "markdown",
      "metadata": {
        "id": "nUy0my_GMDWI"
      },
      "source": [
        "- <font color = green> Produtividade Diária (Tarefas Concluídas por Hora)"
      ]
    },
    {
      "cell_type": "code",
      "execution_count": null,
      "metadata": {
        "colab": {
          "base_uri": "https://localhost:8080/"
        },
        "id": "EVjpITBfMLMA",
        "outputId": "34d161ec-8915-4655-ce9b-4fe3e1356834"
      },
      "outputs": [],
      "source": [
        "produtividade = tabela['Tarefas Concluídas'].sum()/tabela['Horas Trabalhas'].sum()\n",
        "print(f'De acordo com a soma das tarefas concluidas na semana divida pela soma das horas trabalhadas na semana se conclui que se realiza {produtividade} por hora')"
      ]
    },
    {
      "cell_type": "markdown",
      "metadata": {
        "id": "V-Yj-E3iNTZh"
      },
      "source": [
        "- <font color = green> Podemos analisar de uma forma melhor, onde conseguimos verificar a produtividade por horas, mas por dia e não por semana como foi feito no calculo acima"
      ]
    },
    {
      "cell_type": "code",
      "execution_count": null,
      "metadata": {
        "id": "vLZ0H7irQUBY"
      },
      "outputs": [],
      "source": [
        "produtividadedia = tabela['Tarefas Concluídas']/tabela['Horas Trabalhas']\n",
        "produtividadedia = pd.DataFrame(produtividadedia, columns = ['Produtividade Diária por Hora'])\n",
        "produtividadedia"
      ]
    }
  ],
  "metadata": {
    "colab": {
      "provenance": []
    },
    "kernelspec": {
      "display_name": "Python 3",
      "name": "python3"
    },
    "language_info": {
      "name": "python"
    }
  },
  "nbformat": 4,
  "nbformat_minor": 0
}
