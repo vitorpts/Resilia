{
  "nbformat": 4,
  "nbformat_minor": 0,
  "metadata": {
    "colab": {
      "provenance": []
    },
    "kernelspec": {
      "name": "python3",
      "display_name": "Python 3"
    },
    "language_info": {
      "name": "python"
    }
  },
  "cells": [
    {
      "cell_type": "markdown",
      "source": [
        "#<font color = orange> Projeto Individual Resilia Módulo 4\n"
      ],
      "metadata": {
        "id": "DFb3ORQ7E2DZ"
      }
    },
    {
      "cell_type": "markdown",
      "source": [
        "###<font color = orange>  Importando Pandas e Seaborn"
      ],
      "metadata": {
        "id": "sMm5gL2TFB2A"
      }
    },
    {
      "cell_type": "code",
      "execution_count": 2,
      "metadata": {
        "id": "nk8AycbzEwWe"
      },
      "outputs": [],
      "source": [
        "import pandas as pd\n",
        "import matplotlib.pyplot as plt"
      ]
    },
    {
      "cell_type": "markdown",
      "source": [
        "###<font color = orange> Criando a tabela de acordo com os dados informados"
      ],
      "metadata": {
        "id": "-gWy58F2Gbp5"
      }
    },
    {
      "cell_type": "code",
      "source": [
        "tabela = {'Dia': ['Segunda', 'Terça', 'Quarta', 'Quinta', 'Sexta', 'Sábado', 'Domingo'],\n",
        "          'Horas Trabalhadas': [6,7,8,6,7,5,4],\n",
        "          'Bugs Corrigidos': [3,2,1,4,3,2,1],\n",
        "          'Tarefas Concluídas': [5,4,6,4,5,3,2]}\n",
        "tabela = pd.DataFrame(tabela, index = [0,1,2,3,4,5,6])\n",
        "tabela"
      ],
      "metadata": {
        "id": "ibkxzQU6E08r",
        "outputId": "957e47bb-ce46-4c57-afa4-a1586818ffe8",
        "colab": {
          "base_uri": "https://localhost:8080/",
          "height": 269
        }
      },
      "execution_count": 10,
      "outputs": [
        {
          "output_type": "execute_result",
          "data": {
            "text/plain": [
              "       Dia  Horas Trabalhadas  Bugs Corrigidos  Tarefas Concluídas\n",
              "0  Segunda                  6                3                   5\n",
              "1    Terça                  7                2                   4\n",
              "2   Quarta                  8                1                   6\n",
              "3   Quinta                  6                4                   4\n",
              "4    Sexta                  7                3                   5\n",
              "5   Sábado                  5                2                   3\n",
              "6  Domingo                  4                1                   2"
            ],
            "text/html": [
              "\n",
              "\n",
              "  <div id=\"df-f0a4683e-5dd9-4a45-a45a-43722549d81a\">\n",
              "    <div class=\"colab-df-container\">\n",
              "      <div>\n",
              "<style scoped>\n",
              "    .dataframe tbody tr th:only-of-type {\n",
              "        vertical-align: middle;\n",
              "    }\n",
              "\n",
              "    .dataframe tbody tr th {\n",
              "        vertical-align: top;\n",
              "    }\n",
              "\n",
              "    .dataframe thead th {\n",
              "        text-align: right;\n",
              "    }\n",
              "</style>\n",
              "<table border=\"1\" class=\"dataframe\">\n",
              "  <thead>\n",
              "    <tr style=\"text-align: right;\">\n",
              "      <th></th>\n",
              "      <th>Dia</th>\n",
              "      <th>Horas Trabalhadas</th>\n",
              "      <th>Bugs Corrigidos</th>\n",
              "      <th>Tarefas Concluídas</th>\n",
              "    </tr>\n",
              "  </thead>\n",
              "  <tbody>\n",
              "    <tr>\n",
              "      <th>0</th>\n",
              "      <td>Segunda</td>\n",
              "      <td>6</td>\n",
              "      <td>3</td>\n",
              "      <td>5</td>\n",
              "    </tr>\n",
              "    <tr>\n",
              "      <th>1</th>\n",
              "      <td>Terça</td>\n",
              "      <td>7</td>\n",
              "      <td>2</td>\n",
              "      <td>4</td>\n",
              "    </tr>\n",
              "    <tr>\n",
              "      <th>2</th>\n",
              "      <td>Quarta</td>\n",
              "      <td>8</td>\n",
              "      <td>1</td>\n",
              "      <td>6</td>\n",
              "    </tr>\n",
              "    <tr>\n",
              "      <th>3</th>\n",
              "      <td>Quinta</td>\n",
              "      <td>6</td>\n",
              "      <td>4</td>\n",
              "      <td>4</td>\n",
              "    </tr>\n",
              "    <tr>\n",
              "      <th>4</th>\n",
              "      <td>Sexta</td>\n",
              "      <td>7</td>\n",
              "      <td>3</td>\n",
              "      <td>5</td>\n",
              "    </tr>\n",
              "    <tr>\n",
              "      <th>5</th>\n",
              "      <td>Sábado</td>\n",
              "      <td>5</td>\n",
              "      <td>2</td>\n",
              "      <td>3</td>\n",
              "    </tr>\n",
              "    <tr>\n",
              "      <th>6</th>\n",
              "      <td>Domingo</td>\n",
              "      <td>4</td>\n",
              "      <td>1</td>\n",
              "      <td>2</td>\n",
              "    </tr>\n",
              "  </tbody>\n",
              "</table>\n",
              "</div>\n",
              "      <button class=\"colab-df-convert\" onclick=\"convertToInteractive('df-f0a4683e-5dd9-4a45-a45a-43722549d81a')\"\n",
              "              title=\"Convert this dataframe to an interactive table.\"\n",
              "              style=\"display:none;\">\n",
              "\n",
              "  <svg xmlns=\"http://www.w3.org/2000/svg\" height=\"24px\"viewBox=\"0 0 24 24\"\n",
              "       width=\"24px\">\n",
              "    <path d=\"M0 0h24v24H0V0z\" fill=\"none\"/>\n",
              "    <path d=\"M18.56 5.44l.94 2.06.94-2.06 2.06-.94-2.06-.94-.94-2.06-.94 2.06-2.06.94zm-11 1L8.5 8.5l.94-2.06 2.06-.94-2.06-.94L8.5 2.5l-.94 2.06-2.06.94zm10 10l.94 2.06.94-2.06 2.06-.94-2.06-.94-.94-2.06-.94 2.06-2.06.94z\"/><path d=\"M17.41 7.96l-1.37-1.37c-.4-.4-.92-.59-1.43-.59-.52 0-1.04.2-1.43.59L10.3 9.45l-7.72 7.72c-.78.78-.78 2.05 0 2.83L4 21.41c.39.39.9.59 1.41.59.51 0 1.02-.2 1.41-.59l7.78-7.78 2.81-2.81c.8-.78.8-2.07 0-2.86zM5.41 20L4 18.59l7.72-7.72 1.47 1.35L5.41 20z\"/>\n",
              "  </svg>\n",
              "      </button>\n",
              "\n",
              "\n",
              "\n",
              "    <div id=\"df-075bf76e-d9c8-4fb8-beab-f68734835f46\">\n",
              "      <button class=\"colab-df-quickchart\" onclick=\"quickchart('df-075bf76e-d9c8-4fb8-beab-f68734835f46')\"\n",
              "              title=\"Suggest charts.\"\n",
              "              style=\"display:none;\">\n",
              "\n",
              "<svg xmlns=\"http://www.w3.org/2000/svg\" height=\"24px\"viewBox=\"0 0 24 24\"\n",
              "     width=\"24px\">\n",
              "    <g>\n",
              "        <path d=\"M19 3H5c-1.1 0-2 .9-2 2v14c0 1.1.9 2 2 2h14c1.1 0 2-.9 2-2V5c0-1.1-.9-2-2-2zM9 17H7v-7h2v7zm4 0h-2V7h2v10zm4 0h-2v-4h2v4z\"/>\n",
              "    </g>\n",
              "</svg>\n",
              "      </button>\n",
              "    </div>\n",
              "\n",
              "<style>\n",
              "  .colab-df-quickchart {\n",
              "    background-color: #E8F0FE;\n",
              "    border: none;\n",
              "    border-radius: 50%;\n",
              "    cursor: pointer;\n",
              "    display: none;\n",
              "    fill: #1967D2;\n",
              "    height: 32px;\n",
              "    padding: 0 0 0 0;\n",
              "    width: 32px;\n",
              "  }\n",
              "\n",
              "  .colab-df-quickchart:hover {\n",
              "    background-color: #E2EBFA;\n",
              "    box-shadow: 0px 1px 2px rgba(60, 64, 67, 0.3), 0px 1px 3px 1px rgba(60, 64, 67, 0.15);\n",
              "    fill: #174EA6;\n",
              "  }\n",
              "\n",
              "  [theme=dark] .colab-df-quickchart {\n",
              "    background-color: #3B4455;\n",
              "    fill: #D2E3FC;\n",
              "  }\n",
              "\n",
              "  [theme=dark] .colab-df-quickchart:hover {\n",
              "    background-color: #434B5C;\n",
              "    box-shadow: 0px 1px 3px 1px rgba(0, 0, 0, 0.15);\n",
              "    filter: drop-shadow(0px 1px 2px rgba(0, 0, 0, 0.3));\n",
              "    fill: #FFFFFF;\n",
              "  }\n",
              "</style>\n",
              "\n",
              "    <script>\n",
              "      async function quickchart(key) {\n",
              "        const containerElement = document.querySelector('#' + key);\n",
              "        const charts = await google.colab.kernel.invokeFunction(\n",
              "            'suggestCharts', [key], {});\n",
              "      }\n",
              "    </script>\n",
              "\n",
              "      <script>\n",
              "\n",
              "function displayQuickchartButton(domScope) {\n",
              "  let quickchartButtonEl =\n",
              "    domScope.querySelector('#df-075bf76e-d9c8-4fb8-beab-f68734835f46 button.colab-df-quickchart');\n",
              "  quickchartButtonEl.style.display =\n",
              "    google.colab.kernel.accessAllowed ? 'block' : 'none';\n",
              "}\n",
              "\n",
              "        displayQuickchartButton(document);\n",
              "      </script>\n",
              "      <style>\n",
              "    .colab-df-container {\n",
              "      display:flex;\n",
              "      flex-wrap:wrap;\n",
              "      gap: 12px;\n",
              "    }\n",
              "\n",
              "    .colab-df-convert {\n",
              "      background-color: #E8F0FE;\n",
              "      border: none;\n",
              "      border-radius: 50%;\n",
              "      cursor: pointer;\n",
              "      display: none;\n",
              "      fill: #1967D2;\n",
              "      height: 32px;\n",
              "      padding: 0 0 0 0;\n",
              "      width: 32px;\n",
              "    }\n",
              "\n",
              "    .colab-df-convert:hover {\n",
              "      background-color: #E2EBFA;\n",
              "      box-shadow: 0px 1px 2px rgba(60, 64, 67, 0.3), 0px 1px 3px 1px rgba(60, 64, 67, 0.15);\n",
              "      fill: #174EA6;\n",
              "    }\n",
              "\n",
              "    [theme=dark] .colab-df-convert {\n",
              "      background-color: #3B4455;\n",
              "      fill: #D2E3FC;\n",
              "    }\n",
              "\n",
              "    [theme=dark] .colab-df-convert:hover {\n",
              "      background-color: #434B5C;\n",
              "      box-shadow: 0px 1px 3px 1px rgba(0, 0, 0, 0.15);\n",
              "      filter: drop-shadow(0px 1px 2px rgba(0, 0, 0, 0.3));\n",
              "      fill: #FFFFFF;\n",
              "    }\n",
              "  </style>\n",
              "\n",
              "      <script>\n",
              "        const buttonEl =\n",
              "          document.querySelector('#df-f0a4683e-5dd9-4a45-a45a-43722549d81a button.colab-df-convert');\n",
              "        buttonEl.style.display =\n",
              "          google.colab.kernel.accessAllowed ? 'block' : 'none';\n",
              "\n",
              "        async function convertToInteractive(key) {\n",
              "          const element = document.querySelector('#df-f0a4683e-5dd9-4a45-a45a-43722549d81a');\n",
              "          const dataTable =\n",
              "            await google.colab.kernel.invokeFunction('convertToInteractive',\n",
              "                                                     [key], {});\n",
              "          if (!dataTable) return;\n",
              "\n",
              "          const docLinkHtml = 'Like what you see? Visit the ' +\n",
              "            '<a target=\"_blank\" href=https://colab.research.google.com/notebooks/data_table.ipynb>data table notebook</a>'\n",
              "            + ' to learn more about interactive tables.';\n",
              "          element.innerHTML = '';\n",
              "          dataTable['output_type'] = 'display_data';\n",
              "          await google.colab.output.renderOutput(dataTable, element);\n",
              "          const docLink = document.createElement('div');\n",
              "          docLink.innerHTML = docLinkHtml;\n",
              "          element.appendChild(docLink);\n",
              "        }\n",
              "      </script>\n",
              "    </div>\n",
              "  </div>\n"
            ]
          },
          "metadata": {},
          "execution_count": 10
        }
      ]
    },
    {
      "cell_type": "markdown",
      "source": [
        "###<font color = orange> Relatório"
      ],
      "metadata": {
        "id": "YMIQUY-EHg3I"
      }
    },
    {
      "cell_type": "markdown",
      "source": [
        "- <font color = green>  Total de Horas Trabalhas"
      ],
      "metadata": {
        "id": "l8TKzSB5HtOA"
      }
    },
    {
      "cell_type": "code",
      "source": [
        "horasoma = tabela['Horas Trabalhadas'].sum()\n",
        "print(f'O total de horas trabalhadas na semana é {horasoma} horas')"
      ],
      "metadata": {
        "id": "KEjju_H9Hsz4",
        "outputId": "6bb3f416-9119-4b66-b5c2-cf8c917a5d12",
        "colab": {
          "base_uri": "https://localhost:8080/"
        }
      },
      "execution_count": 11,
      "outputs": [
        {
          "output_type": "stream",
          "name": "stdout",
          "text": [
            "O total de horas trabalhadas na semana é 43 horas\n"
          ]
        }
      ]
    },
    {
      "cell_type": "code",
      "source": [
        "tabelahora = tabela['Horas Trabalhadas']\n",
        "tabelahora.rename(index = {0:'Segunda', 1:'Terça', 2:'Quarta', 3:'Quinta', 4:'Sexta', 5:'Sábado', 6:'Domingo'}, inplace = True)\n",
        "tabelahora.plot.barh()"
      ],
      "metadata": {
        "colab": {
          "base_uri": "https://localhost:8080/",
          "height": 447
        },
        "id": "SUnYffEyC9XH",
        "outputId": "42aca04d-9ec8-4669-b2d7-e78d0672fba2"
      },
      "execution_count": 27,
      "outputs": [
        {
          "output_type": "execute_result",
          "data": {
            "text/plain": [
              "<Axes: >"
            ]
          },
          "metadata": {},
          "execution_count": 27
        },
        {
          "output_type": "display_data",
          "data": {
            "text/plain": [
              "<Figure size 640x480 with 1 Axes>"
            ],
            "image/png": "[encoded data removed]"
          },
          "metadata": {}
        }
      ]
    },
    {
      "cell_type": "markdown",
      "source": [
        "- <font color = green> Média Diária de Horas Trabalhas"
      ],
      "metadata": {
        "id": "bGlmwhcEIcfR"
      }
    },
    {
      "cell_type": "code",
      "source": [
        "horamedia = tabela['Horas Trabalhadas'].mean().round(2)\n",
        "print(f'A média diária trabalhada é {horamedia} horas')"
      ],
      "metadata": {
        "id": "HF51SUaiIhJP",
        "outputId": "dc630be1-1736-4dcd-f574-cf822d24af28",
        "colab": {
          "base_uri": "https://localhost:8080/"
        }
      },
      "execution_count": 21,
      "outputs": [
        {
          "output_type": "stream",
          "name": "stdout",
          "text": [
            "A média diária trabalhada é 6.14 horas\n"
          ]
        }
      ]
    },
    {
      "cell_type": "markdown",
      "source": [
        "<font color = black> Com esse valor, tiramos que a empresa tem por média diária de trabalho 6,14 horas, mesmo tendo uma variação de horas trabalhadas nos dias da semana."
      ],
      "metadata": {
        "id": "CFqYCt55_qCP"
      }
    },
    {
      "cell_type": "markdown",
      "source": [
        "- <font color = green> Total de Bugs Corridos"
      ],
      "metadata": {
        "id": "SN1E7wpIJP9o"
      }
    },
    {
      "cell_type": "code",
      "source": [
        "bugsoma = tabela['Bugs Corrigidos'].sum()\n",
        "print(f'O total de bugs corrigos foram de {bugsoma}')"
      ],
      "metadata": {
        "id": "Mp6HhcOrJ2pj",
        "outputId": "83505e18-8b9e-4715-d4f9-6c8c555f0275",
        "colab": {
          "base_uri": "https://localhost:8080/"
        }
      },
      "execution_count": 13,
      "outputs": [
        {
          "output_type": "stream",
          "name": "stdout",
          "text": [
            "O total de bugs corrigos foram de 16\n"
          ]
        }
      ]
    },
    {
      "cell_type": "code",
      "source": [
        "tabelabug = tabela['Bugs Corrigidos']\n",
        "tabelabug.rename(index = {0:'Segunda', 1:'Terça', 2:'Quarta', 3:'Quinta', 4:'Sexta', 5:'Sábado', 6:'Domingo'}, inplace = True)\n",
        "tabelabug.plot.barh()"
      ],
      "metadata": {
        "colab": {
          "base_uri": "https://localhost:8080/",
          "height": 447
        },
        "id": "KLba-v1LDr3X",
        "outputId": "80279240-0c38-4ca1-a7e7-9eff83fbeac0"
      },
      "execution_count": 28,
      "outputs": [
        {
          "output_type": "execute_result",
          "data": {
            "text/plain": [
              "<Axes: >"
            ]
          },
          "metadata": {},
          "execution_count": 28
        },
        {
          "output_type": "display_data",
          "data": {
            "text/plain": [
              "<Figure size 640x480 with 1 Axes>"
            ],
            "image/png": "[encoded data removed]"
          },
          "metadata": {}
        }
      ]
    },
    {
      "cell_type": "markdown",
      "source": [
        "- <font color = green> Média Diária de Bugs Corrigidos"
      ],
      "metadata": {
        "id": "SQbg9IpdKDuA"
      }
    },
    {
      "cell_type": "code",
      "source": [
        "bugmedia = tabela['Bugs Corrigidos'].mean().round(2)\n",
        "print(f'A média diária de bugs corrigidos é de {bugmedia}')"
      ],
      "metadata": {
        "colab": {
          "base_uri": "https://localhost:8080/"
        },
        "id": "8sjE8E5QKKif",
        "outputId": "5b8f305a-9cc1-4932-edb2-5b50cf5efaa7"
      },
      "execution_count": 14,
      "outputs": [
        {
          "output_type": "stream",
          "name": "stdout",
          "text": [
            "A média diária de bugs corrigidos é de 2.29\n"
          ]
        }
      ]
    },
    {
      "cell_type": "markdown",
      "source": [
        "<font color = black> Com a média de bugs corrigidos diários observamos que em alguns dias a correção de bugs foram a cima da média."
      ],
      "metadata": {
        "id": "FmPWkfONAux3"
      }
    },
    {
      "cell_type": "markdown",
      "source": [
        "- <font color = green> Total de Tarefas Concluídas"
      ],
      "metadata": {
        "id": "5S0_XDBdK-MA"
      }
    },
    {
      "cell_type": "code",
      "source": [
        "tarefasoma = tabela['Tarefas Concluídas'].sum()\n",
        "print(f'O total de tarefas concluidas foi de {tarefasoma}')"
      ],
      "metadata": {
        "id": "HotfjXKcLEoR",
        "outputId": "a7abd8e1-9f16-433d-ec80-ab821770af36",
        "colab": {
          "base_uri": "https://localhost:8080/"
        }
      },
      "execution_count": null,
      "outputs": [
        {
          "output_type": "stream",
          "name": "stdout",
          "text": [
            "O total de tarefas concluidas foi de 29\n"
          ]
        }
      ]
    },
    {
      "cell_type": "code",
      "source": [
        "tabelatarefa = tabela['Tarefas Concluídas']\n",
        "tabelatarefa.rename(index = {0:'Segunda', 1:'Terça', 2:'Quarta', 3:'Quinta', 4:'Sexta', 5:'Sábado', 6:'Domingo'}, inplace = True)\n",
        "tabelatarefa.plot.barh()"
      ],
      "metadata": {
        "colab": {
          "base_uri": "https://localhost:8080/",
          "height": 447
        },
        "id": "_avgs8PgFmR4",
        "outputId": "00e7bfb0-6461-4db6-e699-d8797629dccf"
      },
      "execution_count": 29,
      "outputs": [
        {
          "output_type": "execute_result",
          "data": {
            "text/plain": [
              "<Axes: >"
            ]
          },
          "metadata": {},
          "execution_count": 29
        },
        {
          "output_type": "display_data",
          "data": {
            "text/plain": [
              "<Figure size 640x480 with 1 Axes>"
            ],
            "image/png": "[encoded data removed]"
          },
          "metadata": {}
        }
      ]
    },
    {
      "cell_type": "markdown",
      "source": [
        "- <font color = green> Média Diária de Tarefas Concluídas"
      ],
      "metadata": {
        "id": "uCA8UsDXLXCA"
      }
    },
    {
      "cell_type": "code",
      "source": [
        "tarefamedia = tabela['Tarefas Concluídas'].mean().round(2)\n",
        "print(f'A média diária de tarefas concluidas é de {tarefamedia}')"
      ],
      "metadata": {
        "id": "0icQFxu_Lc5I",
        "outputId": "029ee5d7-1ad5-4cbd-a7b0-080c1f2a4051",
        "colab": {
          "base_uri": "https://localhost:8080/"
        }
      },
      "execution_count": null,
      "outputs": [
        {
          "output_type": "stream",
          "name": "stdout",
          "text": [
            "A média diária de tarefas concluidas é de 4.14\n"
          ]
        }
      ]
    },
    {
      "cell_type": "markdown",
      "source": [
        "<font color = black> Conseguimos ver com a média diária de tarefas concluídas que 3 dias da semana temos tarefas concluídas a cima da média\n"
      ],
      "metadata": {
        "id": "2fPlyu5QF3fY"
      }
    },
    {
      "cell_type": "markdown",
      "source": [
        "- <font color = green> Produtividade Diária (Tarefas Concluídas por Hora)\n",
        "\n",
        "---\n",
        "\n"
      ],
      "metadata": {
        "id": "nUy0my_GMDWI"
      }
    },
    {
      "cell_type": "code",
      "source": [
        "produtividade = tabela['Tarefas Concluídas'].sum()/tabela['Horas Trabalhadas'].sum()\n",
        "print(f'De acordo com a soma das tarefas concluidas na semana divida pela soma das horas trabalhadas na semana se conclui que se realiza {produtividade.round(2)} por hora')"
      ],
      "metadata": {
        "colab": {
          "base_uri": "https://localhost:8080/"
        },
        "id": "EVjpITBfMLMA",
        "outputId": "69a48afe-3717-4c2f-8b0e-ca304fe1e389"
      },
      "execution_count": null,
      "outputs": [
        {
          "output_type": "stream",
          "name": "stdout",
          "text": [
            "De acordo com a soma das tarefas concluidas na semana divida pela soma das horas trabalhadas na semana se conclui que se realiza 0.69 por hora\n"
          ]
        }
      ]
    },
    {
      "cell_type": "markdown",
      "source": [
        "- <font color = green> Podemos analisar de uma forma melhor, onde conseguimos verificar a produtividade por horas, mas por dia e não por semana como foi feito no calculo acima"
      ],
      "metadata": {
        "id": "V-Yj-E3iNTZh"
      }
    },
    {
      "cell_type": "code",
      "source": [
        "produtividadedia = tabela['Tarefas Concluídas']/tabela['Horas Trabalhadas']\n",
        "produtividadedia = pd.DataFrame(produtividadedia, columns = ['Produtividade Diária por Hora'])\n",
        "produtividadedia.rename(index = {0:'Segunda', 1:'Terça', 2:'Quarta', 3:'Quinta', 4:'Sexta', 5:'Sábado', 6:'Domingo'}, inplace = True)\n",
        "produtividadedia = produtividadedia.round(2)\n",
        "produtividadedia"
      ],
      "metadata": {
        "id": "vLZ0H7irQUBY",
        "outputId": "73ea495d-9f0c-4533-843a-5292a7ecd61a",
        "colab": {
          "base_uri": "https://localhost:8080/",
          "height": 269
        }
      },
      "execution_count": 8,
      "outputs": [
        {
          "output_type": "execute_result",
          "data": {
            "text/plain": [
              "         Produtividade Diária por Hora\n",
              "Segunda                           0.83\n",
              "Terça                             0.57\n",
              "Quarta                            0.75\n",
              "Quinta                            0.67\n",
              "Sexta                             0.71\n",
              "Sábado                            0.60\n",
              "Domingo                           0.50"
            ],
            "text/html": [
              "\n",
              "\n",
              "  <div id=\"df-0223ac1e-869c-4791-a969-42c2ccb61b4c\">\n",
              "    <div class=\"colab-df-container\">\n",
              "      <div>\n",
              "<style scoped>\n",
              "    .dataframe tbody tr th:only-of-type {\n",
              "        vertical-align: middle;\n",
              "    }\n",
              "\n",
              "    .dataframe tbody tr th {\n",
              "        vertical-align: top;\n",
              "    }\n",
              "\n",
              "    .dataframe thead th {\n",
              "        text-align: right;\n",
              "    }\n",
              "</style>\n",
              "<table border=\"1\" class=\"dataframe\">\n",
              "  <thead>\n",
              "    <tr style=\"text-align: right;\">\n",
              "      <th></th>\n",
              "      <th>Produtividade Diária por Hora</th>\n",
              "    </tr>\n",
              "  </thead>\n",
              "  <tbody>\n",
              "    <tr>\n",
              "      <th>Segunda</th>\n",
              "      <td>0.83</td>\n",
              "    </tr>\n",
              "    <tr>\n",
              "      <th>Terça</th>\n",
              "      <td>0.57</td>\n",
              "    </tr>\n",
              "    <tr>\n",
              "      <th>Quarta</th>\n",
              "      <td>0.75</td>\n",
              "    </tr>\n",
              "    <tr>\n",
              "      <th>Quinta</th>\n",
              "      <td>0.67</td>\n",
              "    </tr>\n",
              "    <tr>\n",
              "      <th>Sexta</th>\n",
              "      <td>0.71</td>\n",
              "    </tr>\n",
              "    <tr>\n",
              "      <th>Sábado</th>\n",
              "      <td>0.60</td>\n",
              "    </tr>\n",
              "    <tr>\n",
              "      <th>Domingo</th>\n",
              "      <td>0.50</td>\n",
              "    </tr>\n",
              "  </tbody>\n",
              "</table>\n",
              "</div>\n",
              "      <button class=\"colab-df-convert\" onclick=\"convertToInteractive('df-0223ac1e-869c-4791-a969-42c2ccb61b4c')\"\n",
              "              title=\"Convert this dataframe to an interactive table.\"\n",
              "              style=\"display:none;\">\n",
              "\n",
              "  <svg xmlns=\"http://www.w3.org/2000/svg\" height=\"24px\"viewBox=\"0 0 24 24\"\n",
              "       width=\"24px\">\n",
              "    <path d=\"M0 0h24v24H0V0z\" fill=\"none\"/>\n",
              "    <path d=\"M18.56 5.44l.94 2.06.94-2.06 2.06-.94-2.06-.94-.94-2.06-.94 2.06-2.06.94zm-11 1L8.5 8.5l.94-2.06 2.06-.94-2.06-.94L8.5 2.5l-.94 2.06-2.06.94zm10 10l.94 2.06.94-2.06 2.06-.94-2.06-.94-.94-2.06-.94 2.06-2.06.94z\"/><path d=\"M17.41 7.96l-1.37-1.37c-.4-.4-.92-.59-1.43-.59-.52 0-1.04.2-1.43.59L10.3 9.45l-7.72 7.72c-.78.78-.78 2.05 0 2.83L4 21.41c.39.39.9.59 1.41.59.51 0 1.02-.2 1.41-.59l7.78-7.78 2.81-2.81c.8-.78.8-2.07 0-2.86zM5.41 20L4 18.59l7.72-7.72 1.47 1.35L5.41 20z\"/>\n",
              "  </svg>\n",
              "      </button>\n",
              "\n",
              "\n",
              "\n",
              "    <div id=\"df-51c61517-cf3b-4bda-8297-0a8aabc9f590\">\n",
              "      <button class=\"colab-df-quickchart\" onclick=\"quickchart('df-51c61517-cf3b-4bda-8297-0a8aabc9f590')\"\n",
              "              title=\"Suggest charts.\"\n",
              "              style=\"display:none;\">\n",
              "\n",
              "<svg xmlns=\"http://www.w3.org/2000/svg\" height=\"24px\"viewBox=\"0 0 24 24\"\n",
              "     width=\"24px\">\n",
              "    <g>\n",
              "        <path d=\"M19 3H5c-1.1 0-2 .9-2 2v14c0 1.1.9 2 2 2h14c1.1 0 2-.9 2-2V5c0-1.1-.9-2-2-2zM9 17H7v-7h2v7zm4 0h-2V7h2v10zm4 0h-2v-4h2v4z\"/>\n",
              "    </g>\n",
              "</svg>\n",
              "      </button>\n",
              "    </div>\n",
              "\n",
              "<style>\n",
              "  .colab-df-quickchart {\n",
              "    background-color: #E8F0FE;\n",
              "    border: none;\n",
              "    border-radius: 50%;\n",
              "    cursor: pointer;\n",
              "    display: none;\n",
              "    fill: #1967D2;\n",
              "    height: 32px;\n",
              "    padding: 0 0 0 0;\n",
              "    width: 32px;\n",
              "  }\n",
              "\n",
              "  .colab-df-quickchart:hover {\n",
              "    background-color: #E2EBFA;\n",
              "    box-shadow: 0px 1px 2px rgba(60, 64, 67, 0.3), 0px 1px 3px 1px rgba(60, 64, 67, 0.15);\n",
              "    fill: #174EA6;\n",
              "  }\n",
              "\n",
              "  [theme=dark] .colab-df-quickchart {\n",
              "    background-color: #3B4455;\n",
              "    fill: #D2E3FC;\n",
              "  }\n",
              "\n",
              "  [theme=dark] .colab-df-quickchart:hover {\n",
              "    background-color: #434B5C;\n",
              "    box-shadow: 0px 1px 3px 1px rgba(0, 0, 0, 0.15);\n",
              "    filter: drop-shadow(0px 1px 2px rgba(0, 0, 0, 0.3));\n",
              "    fill: #FFFFFF;\n",
              "  }\n",
              "</style>\n",
              "\n",
              "    <script>\n",
              "      async function quickchart(key) {\n",
              "        const containerElement = document.querySelector('#' + key);\n",
              "        const charts = await google.colab.kernel.invokeFunction(\n",
              "            'suggestCharts', [key], {});\n",
              "      }\n",
              "    </script>\n",
              "\n",
              "      <script>\n",
              "\n",
              "function displayQuickchartButton(domScope) {\n",
              "  let quickchartButtonEl =\n",
              "    domScope.querySelector('#df-51c61517-cf3b-4bda-8297-0a8aabc9f590 button.colab-df-quickchart');\n",
              "  quickchartButtonEl.style.display =\n",
              "    google.colab.kernel.accessAllowed ? 'block' : 'none';\n",
              "}\n",
              "\n",
              "        displayQuickchartButton(document);\n",
              "      </script>\n",
              "      <style>\n",
              "    .colab-df-container {\n",
              "      display:flex;\n",
              "      flex-wrap:wrap;\n",
              "      gap: 12px;\n",
              "    }\n",
              "\n",
              "    .colab-df-convert {\n",
              "      background-color: #E8F0FE;\n",
              "      border: none;\n",
              "      border-radius: 50%;\n",
              "      cursor: pointer;\n",
              "      display: none;\n",
              "      fill: #1967D2;\n",
              "      height: 32px;\n",
              "      padding: 0 0 0 0;\n",
              "      width: 32px;\n",
              "    }\n",
              "\n",
              "    .colab-df-convert:hover {\n",
              "      background-color: #E2EBFA;\n",
              "      box-shadow: 0px 1px 2px rgba(60, 64, 67, 0.3), 0px 1px 3px 1px rgba(60, 64, 67, 0.15);\n",
              "      fill: #174EA6;\n",
              "    }\n",
              "\n",
              "    [theme=dark] .colab-df-convert {\n",
              "      background-color: #3B4455;\n",
              "      fill: #D2E3FC;\n",
              "    }\n",
              "\n",
              "    [theme=dark] .colab-df-convert:hover {\n",
              "      background-color: #434B5C;\n",
              "      box-shadow: 0px 1px 3px 1px rgba(0, 0, 0, 0.15);\n",
              "      filter: drop-shadow(0px 1px 2px rgba(0, 0, 0, 0.3));\n",
              "      fill: #FFFFFF;\n",
              "    }\n",
              "  </style>\n",
              "\n",
              "      <script>\n",
              "        const buttonEl =\n",
              "          document.querySelector('#df-0223ac1e-869c-4791-a969-42c2ccb61b4c button.colab-df-convert');\n",
              "        buttonEl.style.display =\n",
              "          google.colab.kernel.accessAllowed ? 'block' : 'none';\n",
              "\n",
              "        async function convertToInteractive(key) {\n",
              "          const element = document.querySelector('#df-0223ac1e-869c-4791-a969-42c2ccb61b4c');\n",
              "          const dataTable =\n",
              "            await google.colab.kernel.invokeFunction('convertToInteractive',\n",
              "                                                     [key], {});\n",
              "          if (!dataTable) return;\n",
              "\n",
              "          const docLinkHtml = 'Like what you see? Visit the ' +\n",
              "            '<a target=\"_blank\" href=https://colab.research.google.com/notebooks/data_table.ipynb>data table notebook</a>'\n",
              "            + ' to learn more about interactive tables.';\n",
              "          element.innerHTML = '';\n",
              "          dataTable['output_type'] = 'display_data';\n",
              "          await google.colab.output.renderOutput(dataTable, element);\n",
              "          const docLink = document.createElement('div');\n",
              "          docLink.innerHTML = docLinkHtml;\n",
              "          element.appendChild(docLink);\n",
              "        }\n",
              "      </script>\n",
              "    </div>\n",
              "  </div>\n"
            ]
          },
          "metadata": {},
          "execution_count": 8
        }
      ]
    },
    {
      "cell_type": "markdown",
      "source": [
        "<font color = black>Como mostra nossa análise de produtividade por hora, as segundas são onde temos as horas mais produtivas do dia. Para ter uma melhor visualização da nossa análise, podemos criar um gráfico."
      ],
      "metadata": {
        "id": "mpAYEdGX8elm"
      }
    },
    {
      "cell_type": "markdown",
      "source": [
        "- Gráfico da produtividade Diária por hora"
      ],
      "metadata": {
        "id": "d_v26kY0JVNG"
      }
    },
    {
      "cell_type": "code",
      "source": [
        "# Dados da produtividade diária por hora\n",
        "produtividadedia = tabela['Tarefas Concluídas'] / tabela['Horas Trabalhadas']\n",
        "produtividadedia = pd.DataFrame(produtividadedia, columns=['Produtividade Diária por Hora'])\n",
        "\n",
        "# Arredondar os valores para 2 casas decimais\n",
        "produtividadedia2 = produtividadedia.round(2)\n",
        "\n",
        "# Criar um gráfico de barras\n",
        "plt.figure(figsize=(8, 6))  # Definir o tamanho do gráfico\n",
        "plt.bar(produtividadedia2.index, produtividadedia2['Produtividade Diária por Hora'])\n",
        "\n",
        "# Configurar rótulos e títulos\n",
        "plt.xlabel('Dia da Semana')\n",
        "plt.ylabel('Produtividade Diária por Hora')\n",
        "plt.title('Produtividade Diária por Hora ao longo da Semana')\n",
        "\n",
        "# Definir rótulos do eixo x como os dias da semana\n",
        "plt.xticks(produtividadedia2.index, tabela['Dia'])\n",
        "\n",
        "# Mostrar o gráfico\n",
        "plt.show()\n"
      ],
      "metadata": {
        "colab": {
          "base_uri": "https://localhost:8080/",
          "height": 565
        },
        "id": "qQFTPPQYJZgV",
        "outputId": "86264143-3a74-477f-a056-16d289257bfd"
      },
      "execution_count": 9,
      "outputs": [
        {
          "output_type": "display_data",
          "data": {
            "text/plain": [
              "<Figure size 800x600 with 1 Axes>"
            ],
            "image/png": "[encoded data removed]"
          },
          "metadata": {}
        }
      ]
    },
    {
      "cell_type": "markdown",
      "source": [
        "### <font color = orange>**Análise final**"
      ],
      "metadata": {
        "id": "ASn9ThPYGjWJ"
      }
    },
    {
      "cell_type": "markdown",
      "source": [
        "- <font color = black> Com esses dados podemos observar que a quantidade de horas trabalhas não diz diretamente que se terá um grande número de tarefas conclúidas, que a produtividade varia de acordo com os dias da semana.Assim observamos que o dia mais produtivo em relação a tarefas concluídas são as segundas.\n",
        "\n",
        "- <font color = black>A produtividade se mantém mesmo nos dias que se tem um pico na quantidade de bugs, assim não podemos conectar diretamente a queda da produção diária em relação aos bugs.\n",
        "\n",
        "- <font color = black>Vemos que independente da média diária de trabalho ser 6,14h temos uma variação nos dias da semana de horários, assim se observa que existe uma boa gestão de tempo."
      ],
      "metadata": {
        "id": "xiVJ--AjGSJq"
      }
    }
  ]
}