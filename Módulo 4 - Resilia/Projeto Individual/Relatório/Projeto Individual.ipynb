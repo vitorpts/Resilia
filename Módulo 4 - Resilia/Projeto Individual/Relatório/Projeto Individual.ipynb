{
  "nbformat": 4,
  "nbformat_minor": 0,
  "metadata": {
    "colab": {
      "provenance": []
    },
    "kernelspec": {
      "name": "python3",
      "display_name": "Python 3"
    },
    "language_info": {
      "name": "python"
    }
  },
  "cells": [
    {
      "cell_type": "markdown",
      "source": [
        "#<font color = orange> Projeto Individual Resilia Módulo 4\n"
      ],
      "metadata": {
        "id": "DFb3ORQ7E2DZ"
      }
    },
    {
      "cell_type": "markdown",
      "source": [
        "###<font color = yellow>  Importando Pandas"
      ],
      "metadata": {
        "id": "sMm5gL2TFB2A"
      }
    },
    {
      "cell_type": "code",
      "execution_count": 7,
      "metadata": {
        "id": "nk8AycbzEwWe"
      },
      "outputs": [],
      "source": [
        "import pandas as pd\n"
      ]
    },
    {
      "cell_type": "markdown",
      "source": [
        "###<font color = yellow> Criando a tabela de acordo com os dados informados"
      ],
      "metadata": {
        "id": "-gWy58F2Gbp5"
      }
    },
    {
      "cell_type": "code",
      "source": [
        "tabela = {'Dia': ['Segunda', 'Terça', 'Quarta', 'Quinta', 'Sexta', 'Sábado', 'Domingo'],\n",
        "          'Horas Trabalhas': [5,7,8,6,7,5,4],\n",
        "          'Bugs Corrigidos': [3,2,1,4,3,2,1],\n",
        "          'Tarefas Concluídas': [5,4,6,4,5,3,2]}\n",
        "tabela = pd.DataFrame(tabela, index = [0,1,2,3,4,5,6])\n",
        "tabela"
      ],
      "metadata": {
        "id": "ibkxzQU6E08r"
      },
      "execution_count": null,
      "outputs": []
    },
    {
      "cell_type": "markdown",
      "source": [
        "###<font color = yellow> Relatório"
      ],
      "metadata": {
        "id": "YMIQUY-EHg3I"
      }
    },
    {
      "cell_type": "markdown",
      "source": [
        "- <font color = green>  Total de Horas Trabalhas"
      ],
      "metadata": {
        "id": "l8TKzSB5HtOA"
      }
    },
    {
      "cell_type": "code",
      "source": [
        "horasoma = tabela['Horas Trabalhas'].sum()\n",
        "print(f'O total de horas trabalhas é {horasoma} horas')"
      ],
      "metadata": {
        "id": "KEjju_H9Hsz4"
      },
      "execution_count": null,
      "outputs": []
    },
    {
      "cell_type": "markdown",
      "source": [
        "- <font color = green> Média Diária de Horas Trabalhas"
      ],
      "metadata": {
        "id": "bGlmwhcEIcfR"
      }
    },
    {
      "cell_type": "code",
      "source": [
        "horamedia = tabela['Horas Trabalhas'].mean()\n",
        "print(f'A média diária trabalhada é {horamedia} horas')"
      ],
      "metadata": {
        "id": "HF51SUaiIhJP"
      },
      "execution_count": null,
      "outputs": []
    },
    {
      "cell_type": "markdown",
      "source": [
        "- <font color = green> Total de Bugs Corridos"
      ],
      "metadata": {
        "id": "SN1E7wpIJP9o"
      }
    },
    {
      "cell_type": "code",
      "source": [
        "bugsoma = tabela['Bugs Corrigidos'].sum()\n",
        "print(f'O total de bugs corrigos foram de {bugsoma}')"
      ],
      "metadata": {
        "id": "Mp6HhcOrJ2pj"
      },
      "execution_count": null,
      "outputs": []
    },
    {
      "cell_type": "markdown",
      "source": [
        "- <font color = green> Média Diária de Bugs Corrigidos"
      ],
      "metadata": {
        "id": "SQbg9IpdKDuA"
      }
    },
    {
      "cell_type": "code",
      "source": [
        "bugmedia = tabela['Bugs Corrigidos'].mean()\n",
        "print(f'A média diária de bugs corrigidos é de {bugmedia}')"
      ],
      "metadata": {
        "colab": {
          "base_uri": "https://localhost:8080/"
        },
        "id": "8sjE8E5QKKif",
        "outputId": "6b17c03b-6087-462c-ea55-a0d37ec3fe47"
      },
      "execution_count": 29,
      "outputs": [
        {
          "output_type": "stream",
          "name": "stdout",
          "text": [
            "A média diária de bugs corrigidos é de 2.2857142857142856\n"
          ]
        }
      ]
    },
    {
      "cell_type": "markdown",
      "source": [
        "- <font color = green> Total de Tarefas Concluídas"
      ],
      "metadata": {
        "id": "5S0_XDBdK-MA"
      }
    },
    {
      "cell_type": "code",
      "source": [
        "tarefasoma = tabela['Tarefas Concluídas'].sum()\n",
        "print(f'O total de tarefas concluidas foi de {tarefasoma}')"
      ],
      "metadata": {
        "id": "HotfjXKcLEoR"
      },
      "execution_count": null,
      "outputs": []
    },
    {
      "cell_type": "markdown",
      "source": [
        "- <font color = green> Média Diária de Tarefas Concluídas"
      ],
      "metadata": {
        "id": "uCA8UsDXLXCA"
      }
    },
    {
      "cell_type": "code",
      "source": [
        "tarefamedia = tabela['Tarefas Concluídas'].mean()\n",
        "print(f'A média diária de tarefas concluidas é de {tarefamedia}')"
      ],
      "metadata": {
        "id": "0icQFxu_Lc5I"
      },
      "execution_count": null,
      "outputs": []
    },
    {
      "cell_type": "markdown",
      "source": [
        "- <font color = green> Produtividade Diária (Tarefas Concluídas por Hora)"
      ],
      "metadata": {
        "id": "nUy0my_GMDWI"
      }
    },
    {
      "cell_type": "code",
      "source": [
        "produtividade = tabela['Tarefas Concluídas'].sum()/tabela['Horas Trabalhas'].sum()\n",
        "print(f'De acordo com a soma das tarefas concluidas na semana divida pela soma das horas trabalhadas na semana se conclui que se realiza {produtividade} por hora')"
      ],
      "metadata": {
        "colab": {
          "base_uri": "https://localhost:8080/"
        },
        "id": "EVjpITBfMLMA",
        "outputId": "34d161ec-8915-4655-ce9b-4fe3e1356834"
      },
      "execution_count": 59,
      "outputs": [
        {
          "output_type": "stream",
          "name": "stdout",
          "text": [
            "De acordo com a soma das tarefas concluidas na semana divida pela soma das horas trabalhadas na semana se conclui que se realiza 0.6904761904761905 por hora\n"
          ]
        }
      ]
    },
    {
      "cell_type": "markdown",
      "source": [
        "- <font color = green> Podemos analisar de uma forma melhor, onde conseguimos verificar a produtividade por horas, mas por dia e não por semana como foi feito no calculo acima"
      ],
      "metadata": {
        "id": "V-Yj-E3iNTZh"
      }
    },
    {
      "cell_type": "code",
      "source": [
        "produtividadedia = tabela['Tarefas Concluídas']/tabela['Horas Trabalhas']\n",
        "produtividadedia = pd.DataFrame(produtividadedia, columns = ['Produtividade Diária por Hora'])\n",
        "produtividadedia"
      ],
      "metadata": {
        "id": "vLZ0H7irQUBY"
      },
      "execution_count": null,
      "outputs": []
    }
  ]
}