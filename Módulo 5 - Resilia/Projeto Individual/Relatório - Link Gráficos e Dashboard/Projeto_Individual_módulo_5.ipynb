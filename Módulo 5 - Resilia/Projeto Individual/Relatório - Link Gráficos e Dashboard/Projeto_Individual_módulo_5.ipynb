{
  "nbformat": 4,
  "nbformat_minor": 0,
  "metadata": {
    "colab": {
      "provenance": []
    },
    "kernelspec": {
      "name": "python3",
      "display_name": "Python 3"
    },
    "language_info": {
      "name": "python"
    }
  },
  "cells": [
    {
      "cell_type": "markdown",
      "source": [
        "#<font color = darkblue> Análise Exploratória (Qual é o maior motivo dos funcionarios sairem da empresa?)\n",
        "\n",
        "\n"
      ],
      "metadata": {
        "id": "7LDidVxHfbHN"
      }
    },
    {
      "cell_type": "markdown",
      "source": [
        "### Importando bibliotecas para uso"
      ],
      "metadata": {
        "id": "Lk0vT7Unf0ss"
      }
    },
    {
      "cell_type": "code",
      "execution_count": null,
      "metadata": {
        "id": "gSuD11CpfLNT"
      },
      "outputs": [],
      "source": [
        "import pandas as pd\n",
        "import numpy as np"
      ]
    },
    {
      "cell_type": "markdown",
      "source": [
        "### Importando arquivo para análise"
      ],
      "metadata": {
        "id": "ArmBhOKwfm1V"
      }
    },
    {
      "cell_type": "code",
      "source": [
        "#Importando o arquivo xlsx\n",
        "df = pd.read_excel('Projeto_Individual.xlsx')\n",
        "#Renomeando as colunas\n",
        "df = df.rename(columns={'Unnamed: 0':'A','Unnamed: 1':'Causas de saída','Unnamed: 2':'Capacidade de Impactar','Unnamed: 3':'Parceiro RH', 'Unnamed: 4':'Entrevista de saída(ex-funcionario)'})\n",
        "df"
      ],
      "metadata": {
        "colab": {
          "base_uri": "https://localhost:8080/",
          "height": 519
        },
        "id": "nq53mqS6fls9",
        "outputId": "99c551d9-1d7f-418c-89d3-dd0ed8a0bde7"
      },
      "execution_count": null,
      "outputs": [
        {
          "output_type": "execute_result",
          "data": {
            "text/plain": [
              "     A       Causas de saída Capacidade de Impactar Parceiro RH  \\\n",
              "0  NaN                   NaN                    NaN         NaN   \n",
              "1  NaN                 Dados                    NaN         NaN   \n",
              "2  NaN                   NaN                    NaN         NaN   \n",
              "3  NaN                   NaN      Ability to impact        HRBP   \n",
              "4  NaN              Training                     11          31   \n",
              "5  NaN  Conflict with others                     10          11   \n",
              "6  NaN   Lack of recognition                      9          65   \n",
              "7  NaN              Workload                      8          14   \n",
              "8  NaN    Career advancement                      7         137   \n",
              "9  NaN                   Pay                      6          16   \n",
              "10 NaN          Type of work                      5         128   \n",
              "11 NaN         Career change                      4          18   \n",
              "12 NaN               Commute                      3          31   \n",
              "13 NaN            Relocation                      2         105   \n",
              "14 NaN               Illness                      1           9   \n",
              "\n",
              "   Entrevista de saída(ex-funcionario)  \n",
              "0                                  NaN  \n",
              "1                                  NaN  \n",
              "2                                  NaN  \n",
              "3                          Exit survey  \n",
              "4                                   23  \n",
              "5                                   15  \n",
              "6                                   44  \n",
              "7                                   39  \n",
              "8                                  171  \n",
              "9                                   24  \n",
              "10                                  78  \n",
              "11                                  30  \n",
              "12                                  22  \n",
              "13                                  37  \n",
              "14                                  21  "
            ],
            "text/html": [
              "\n",
              "  <div id=\"df-f2bcd42b-e5b5-4972-8292-9d051540d417\" class=\"colab-df-container\">\n",
              "    <div>\n",
              "<style scoped>\n",
              "    .dataframe tbody tr th:only-of-type {\n",
              "        vertical-align: middle;\n",
              "    }\n",
              "\n",
              "    .dataframe tbody tr th {\n",
              "        vertical-align: top;\n",
              "    }\n",
              "\n",
              "    .dataframe thead th {\n",
              "        text-align: right;\n",
              "    }\n",
              "</style>\n",
              "<table border=\"1\" class=\"dataframe\">\n",
              "  <thead>\n",
              "    <tr style=\"text-align: right;\">\n",
              "      <th></th>\n",
              "      <th>A</th>\n",
              "      <th>Causas de saída</th>\n",
              "      <th>Capacidade de Impactar</th>\n",
              "      <th>Parceiro RH</th>\n",
              "      <th>Entrevista de saída(ex-funcionario)</th>\n",
              "    </tr>\n",
              "  </thead>\n",
              "  <tbody>\n",
              "    <tr>\n",
              "      <th>0</th>\n",
              "      <td>NaN</td>\n",
              "      <td>NaN</td>\n",
              "      <td>NaN</td>\n",
              "      <td>NaN</td>\n",
              "      <td>NaN</td>\n",
              "    </tr>\n",
              "    <tr>\n",
              "      <th>1</th>\n",
              "      <td>NaN</td>\n",
              "      <td>Dados</td>\n",
              "      <td>NaN</td>\n",
              "      <td>NaN</td>\n",
              "      <td>NaN</td>\n",
              "    </tr>\n",
              "    <tr>\n",
              "      <th>2</th>\n",
              "      <td>NaN</td>\n",
              "      <td>NaN</td>\n",
              "      <td>NaN</td>\n",
              "      <td>NaN</td>\n",
              "      <td>NaN</td>\n",
              "    </tr>\n",
              "    <tr>\n",
              "      <th>3</th>\n",
              "      <td>NaN</td>\n",
              "      <td>NaN</td>\n",
              "      <td>Ability to impact</td>\n",
              "      <td>HRBP</td>\n",
              "      <td>Exit survey</td>\n",
              "    </tr>\n",
              "    <tr>\n",
              "      <th>4</th>\n",
              "      <td>NaN</td>\n",
              "      <td>Training</td>\n",
              "      <td>11</td>\n",
              "      <td>31</td>\n",
              "      <td>23</td>\n",
              "    </tr>\n",
              "    <tr>\n",
              "      <th>5</th>\n",
              "      <td>NaN</td>\n",
              "      <td>Conflict with others</td>\n",
              "      <td>10</td>\n",
              "      <td>11</td>\n",
              "      <td>15</td>\n",
              "    </tr>\n",
              "    <tr>\n",
              "      <th>6</th>\n",
              "      <td>NaN</td>\n",
              "      <td>Lack of recognition</td>\n",
              "      <td>9</td>\n",
              "      <td>65</td>\n",
              "      <td>44</td>\n",
              "    </tr>\n",
              "    <tr>\n",
              "      <th>7</th>\n",
              "      <td>NaN</td>\n",
              "      <td>Workload</td>\n",
              "      <td>8</td>\n",
              "      <td>14</td>\n",
              "      <td>39</td>\n",
              "    </tr>\n",
              "    <tr>\n",
              "      <th>8</th>\n",
              "      <td>NaN</td>\n",
              "      <td>Career advancement</td>\n",
              "      <td>7</td>\n",
              "      <td>137</td>\n",
              "      <td>171</td>\n",
              "    </tr>\n",
              "    <tr>\n",
              "      <th>9</th>\n",
              "      <td>NaN</td>\n",
              "      <td>Pay</td>\n",
              "      <td>6</td>\n",
              "      <td>16</td>\n",
              "      <td>24</td>\n",
              "    </tr>\n",
              "    <tr>\n",
              "      <th>10</th>\n",
              "      <td>NaN</td>\n",
              "      <td>Type of work</td>\n",
              "      <td>5</td>\n",
              "      <td>128</td>\n",
              "      <td>78</td>\n",
              "    </tr>\n",
              "    <tr>\n",
              "      <th>11</th>\n",
              "      <td>NaN</td>\n",
              "      <td>Career change</td>\n",
              "      <td>4</td>\n",
              "      <td>18</td>\n",
              "      <td>30</td>\n",
              "    </tr>\n",
              "    <tr>\n",
              "      <th>12</th>\n",
              "      <td>NaN</td>\n",
              "      <td>Commute</td>\n",
              "      <td>3</td>\n",
              "      <td>31</td>\n",
              "      <td>22</td>\n",
              "    </tr>\n",
              "    <tr>\n",
              "      <th>13</th>\n",
              "      <td>NaN</td>\n",
              "      <td>Relocation</td>\n",
              "      <td>2</td>\n",
              "      <td>105</td>\n",
              "      <td>37</td>\n",
              "    </tr>\n",
              "    <tr>\n",
              "      <th>14</th>\n",
              "      <td>NaN</td>\n",
              "      <td>Illness</td>\n",
              "      <td>1</td>\n",
              "      <td>9</td>\n",
              "      <td>21</td>\n",
              "    </tr>\n",
              "  </tbody>\n",
              "</table>\n",
              "</div>\n",
              "    <div class=\"colab-df-buttons\">\n",
              "\n",
              "  <div class=\"colab-df-container\">\n",
              "    <button class=\"colab-df-convert\" onclick=\"convertToInteractive('df-f2bcd42b-e5b5-4972-8292-9d051540d417')\"\n",
              "            title=\"Convert this dataframe to an interactive table.\"\n",
              "            style=\"display:none;\">\n",
              "\n",
              "  <svg xmlns=\"http://www.w3.org/2000/svg\" height=\"24px\" viewBox=\"0 -960 960 960\">\n",
              "    <path d=\"M120-120v-720h720v720H120Zm60-500h600v-160H180v160Zm220 220h160v-160H400v160Zm0 220h160v-160H400v160ZM180-400h160v-160H180v160Zm440 0h160v-160H620v160ZM180-180h160v-160H180v160Zm440 0h160v-160H620v160Z\"/>\n",
              "  </svg>\n",
              "    </button>\n",
              "\n",
              "  <style>\n",
              "    .colab-df-container {\n",
              "      display:flex;\n",
              "      gap: 12px;\n",
              "    }\n",
              "\n",
              "    .colab-df-convert {\n",
              "      background-color: #E8F0FE;\n",
              "      border: none;\n",
              "      border-radius: 50%;\n",
              "      cursor: pointer;\n",
              "      display: none;\n",
              "      fill: #1967D2;\n",
              "      height: 32px;\n",
              "      padding: 0 0 0 0;\n",
              "      width: 32px;\n",
              "    }\n",
              "\n",
              "    .colab-df-convert:hover {\n",
              "      background-color: #E2EBFA;\n",
              "      box-shadow: 0px 1px 2px rgba(60, 64, 67, 0.3), 0px 1px 3px 1px rgba(60, 64, 67, 0.15);\n",
              "      fill: #174EA6;\n",
              "    }\n",
              "\n",
              "    .colab-df-buttons div {\n",
              "      margin-bottom: 4px;\n",
              "    }\n",
              "\n",
              "    [theme=dark] .colab-df-convert {\n",
              "      background-color: #3B4455;\n",
              "      fill: #D2E3FC;\n",
              "    }\n",
              "\n",
              "    [theme=dark] .colab-df-convert:hover {\n",
              "      background-color: #434B5C;\n",
              "      box-shadow: 0px 1px 3px 1px rgba(0, 0, 0, 0.15);\n",
              "      filter: drop-shadow(0px 1px 2px rgba(0, 0, 0, 0.3));\n",
              "      fill: #FFFFFF;\n",
              "    }\n",
              "  </style>\n",
              "\n",
              "    <script>\n",
              "      const buttonEl =\n",
              "        document.querySelector('#df-f2bcd42b-e5b5-4972-8292-9d051540d417 button.colab-df-convert');\n",
              "      buttonEl.style.display =\n",
              "        google.colab.kernel.accessAllowed ? 'block' : 'none';\n",
              "\n",
              "      async function convertToInteractive(key) {\n",
              "        const element = document.querySelector('#df-f2bcd42b-e5b5-4972-8292-9d051540d417');\n",
              "        const dataTable =\n",
              "          await google.colab.kernel.invokeFunction('convertToInteractive',\n",
              "                                                    [key], {});\n",
              "        if (!dataTable) return;\n",
              "\n",
              "        const docLinkHtml = 'Like what you see? Visit the ' +\n",
              "          '<a target=\"_blank\" href=https://colab.research.google.com/notebooks/data_table.ipynb>data table notebook</a>'\n",
              "          + ' to learn more about interactive tables.';\n",
              "        element.innerHTML = '';\n",
              "        dataTable['output_type'] = 'display_data';\n",
              "        await google.colab.output.renderOutput(dataTable, element);\n",
              "        const docLink = document.createElement('div');\n",
              "        docLink.innerHTML = docLinkHtml;\n",
              "        element.appendChild(docLink);\n",
              "      }\n",
              "    </script>\n",
              "  </div>\n",
              "\n",
              "\n",
              "<div id=\"df-c94d97c7-ab3b-4104-8c4a-fdb85b175172\">\n",
              "  <button class=\"colab-df-quickchart\" onclick=\"quickchart('df-c94d97c7-ab3b-4104-8c4a-fdb85b175172')\"\n",
              "            title=\"Suggest charts.\"\n",
              "            style=\"display:none;\">\n",
              "\n",
              "<svg xmlns=\"http://www.w3.org/2000/svg\" height=\"24px\"viewBox=\"0 0 24 24\"\n",
              "     width=\"24px\">\n",
              "    <g>\n",
              "        <path d=\"M19 3H5c-1.1 0-2 .9-2 2v14c0 1.1.9 2 2 2h14c1.1 0 2-.9 2-2V5c0-1.1-.9-2-2-2zM9 17H7v-7h2v7zm4 0h-2V7h2v10zm4 0h-2v-4h2v4z\"/>\n",
              "    </g>\n",
              "</svg>\n",
              "  </button>\n",
              "\n",
              "<style>\n",
              "  .colab-df-quickchart {\n",
              "    background-color: #E8F0FE;\n",
              "    border: none;\n",
              "    border-radius: 50%;\n",
              "    cursor: pointer;\n",
              "    display: none;\n",
              "    fill: #1967D2;\n",
              "    height: 32px;\n",
              "    padding: 0 0 0 0;\n",
              "    width: 32px;\n",
              "  }\n",
              "\n",
              "  .colab-df-quickchart:hover {\n",
              "    background-color: #E2EBFA;\n",
              "    box-shadow: 0px 1px 2px rgba(60, 64, 67, 0.3), 0px 1px 3px 1px rgba(60, 64, 67, 0.15);\n",
              "    fill: #174EA6;\n",
              "  }\n",
              "\n",
              "  [theme=dark] .colab-df-quickchart {\n",
              "    background-color: #3B4455;\n",
              "    fill: #D2E3FC;\n",
              "  }\n",
              "\n",
              "  [theme=dark] .colab-df-quickchart:hover {\n",
              "    background-color: #434B5C;\n",
              "    box-shadow: 0px 1px 3px 1px rgba(0, 0, 0, 0.15);\n",
              "    filter: drop-shadow(0px 1px 2px rgba(0, 0, 0, 0.3));\n",
              "    fill: #FFFFFF;\n",
              "  }\n",
              "</style>\n",
              "\n",
              "  <script>\n",
              "    async function quickchart(key) {\n",
              "      const charts = await google.colab.kernel.invokeFunction(\n",
              "          'suggestCharts', [key], {});\n",
              "    }\n",
              "    (() => {\n",
              "      let quickchartButtonEl =\n",
              "        document.querySelector('#df-c94d97c7-ab3b-4104-8c4a-fdb85b175172 button');\n",
              "      quickchartButtonEl.style.display =\n",
              "        google.colab.kernel.accessAllowed ? 'block' : 'none';\n",
              "    })();\n",
              "  </script>\n",
              "</div>\n",
              "    </div>\n",
              "  </div>\n"
            ]
          },
          "metadata": {},
          "execution_count": 3
        }
      ]
    },
    {
      "cell_type": "markdown",
      "source": [
        "- Tratando o arquivo para eliminar as linhas e colunas nulas"
      ],
      "metadata": {
        "id": "dm0-f9SEhL3t"
      }
    },
    {
      "cell_type": "code",
      "source": [
        "#Eliminar a coluna que só tem valores nulos\n",
        "df = df.drop('A', axis=1)"
      ],
      "metadata": {
        "id": "EJjSqjfeiOXE"
      },
      "execution_count": null,
      "outputs": []
    },
    {
      "cell_type": "code",
      "source": [
        "#Eliminar as linhas com valores nulos, ou com valores que não vão ser utilizados na nossa análise\n",
        "df = df.drop([0,1,2,3], axis=0)"
      ],
      "metadata": {
        "id": "JokBPxm0WQqC"
      },
      "execution_count": null,
      "outputs": []
    },
    {
      "cell_type": "code",
      "source": [
        "#Traduzindo o nome das linhas\n",
        "df.at[4,'Causas de saída'] = 'Treinamento'\n",
        "df.at[5,'Causas de saída'] = 'Conflito com outros'\n",
        "df.at[6,'Causas de saída'] = 'Falta de reconhecimento'\n",
        "df.at[7,'Causas de saída'] = 'Carga horária'\n",
        "df.at[8,'Causas de saída'] = 'Progressão de carreira'\n",
        "df.at[9,'Causas de saída'] = 'Remuneração'\n",
        "df.at[10,'Causas de saída'] = 'Tipo de trabalho'\n",
        "df.at[11,'Causas de saída'] = 'Mudança de carreira'\n",
        "df.at[12,'Causas de saída'] = 'Trajeto'\n",
        "df.at[13,'Causas de saída'] = 'Realocação'\n",
        "df.at[14,'Causas de saída'] = 'Doença'"
      ],
      "metadata": {
        "id": "rvfLOX3GWftB"
      },
      "execution_count": null,
      "outputs": []
    },
    {
      "cell_type": "code",
      "source": [
        "df"
      ],
      "metadata": {
        "colab": {
          "base_uri": "https://localhost:8080/",
          "height": 394
        },
        "id": "lplryn-cU8GT",
        "outputId": "d878076c-8114-491b-c6e1-a0a9513e675d"
      },
      "execution_count": null,
      "outputs": [
        {
          "output_type": "execute_result",
          "data": {
            "text/plain": [
              "            Causas de saída Capacidade de Impactar Parceiro RH  \\\n",
              "4               Treinamento                     11          31   \n",
              "5       Conflito com outros                     10          11   \n",
              "6   Falta de reconhecimento                      9          65   \n",
              "7             Carga horária                      8          14   \n",
              "8    Progressão de carreira                      7         137   \n",
              "9               Remuneração                      6          16   \n",
              "10         Tipo de trabalho                      5         128   \n",
              "11      Mudança de carreira                      4          18   \n",
              "12                  Trajeto                      3          31   \n",
              "13               Realocação                      2         105   \n",
              "14                   Doença                      1           9   \n",
              "\n",
              "   Entrevista de saída(ex-funcionario)  \n",
              "4                                   23  \n",
              "5                                   15  \n",
              "6                                   44  \n",
              "7                                   39  \n",
              "8                                  171  \n",
              "9                                   24  \n",
              "10                                  78  \n",
              "11                                  30  \n",
              "12                                  22  \n",
              "13                                  37  \n",
              "14                                  21  "
            ],
            "text/html": [
              "\n",
              "  <div id=\"df-29c00d53-b11e-4915-a661-3c0f71bb5e79\" class=\"colab-df-container\">\n",
              "    <div>\n",
              "<style scoped>\n",
              "    .dataframe tbody tr th:only-of-type {\n",
              "        vertical-align: middle;\n",
              "    }\n",
              "\n",
              "    .dataframe tbody tr th {\n",
              "        vertical-align: top;\n",
              "    }\n",
              "\n",
              "    .dataframe thead th {\n",
              "        text-align: right;\n",
              "    }\n",
              "</style>\n",
              "<table border=\"1\" class=\"dataframe\">\n",
              "  <thead>\n",
              "    <tr style=\"text-align: right;\">\n",
              "      <th></th>\n",
              "      <th>Causas de saída</th>\n",
              "      <th>Capacidade de Impactar</th>\n",
              "      <th>Parceiro RH</th>\n",
              "      <th>Entrevista de saída(ex-funcionario)</th>\n",
              "    </tr>\n",
              "  </thead>\n",
              "  <tbody>\n",
              "    <tr>\n",
              "      <th>4</th>\n",
              "      <td>Treinamento</td>\n",
              "      <td>11</td>\n",
              "      <td>31</td>\n",
              "      <td>23</td>\n",
              "    </tr>\n",
              "    <tr>\n",
              "      <th>5</th>\n",
              "      <td>Conflito com outros</td>\n",
              "      <td>10</td>\n",
              "      <td>11</td>\n",
              "      <td>15</td>\n",
              "    </tr>\n",
              "    <tr>\n",
              "      <th>6</th>\n",
              "      <td>Falta de reconhecimento</td>\n",
              "      <td>9</td>\n",
              "      <td>65</td>\n",
              "      <td>44</td>\n",
              "    </tr>\n",
              "    <tr>\n",
              "      <th>7</th>\n",
              "      <td>Carga horária</td>\n",
              "      <td>8</td>\n",
              "      <td>14</td>\n",
              "      <td>39</td>\n",
              "    </tr>\n",
              "    <tr>\n",
              "      <th>8</th>\n",
              "      <td>Progressão de carreira</td>\n",
              "      <td>7</td>\n",
              "      <td>137</td>\n",
              "      <td>171</td>\n",
              "    </tr>\n",
              "    <tr>\n",
              "      <th>9</th>\n",
              "      <td>Remuneração</td>\n",
              "      <td>6</td>\n",
              "      <td>16</td>\n",
              "      <td>24</td>\n",
              "    </tr>\n",
              "    <tr>\n",
              "      <th>10</th>\n",
              "      <td>Tipo de trabalho</td>\n",
              "      <td>5</td>\n",
              "      <td>128</td>\n",
              "      <td>78</td>\n",
              "    </tr>\n",
              "    <tr>\n",
              "      <th>11</th>\n",
              "      <td>Mudança de carreira</td>\n",
              "      <td>4</td>\n",
              "      <td>18</td>\n",
              "      <td>30</td>\n",
              "    </tr>\n",
              "    <tr>\n",
              "      <th>12</th>\n",
              "      <td>Trajeto</td>\n",
              "      <td>3</td>\n",
              "      <td>31</td>\n",
              "      <td>22</td>\n",
              "    </tr>\n",
              "    <tr>\n",
              "      <th>13</th>\n",
              "      <td>Realocação</td>\n",
              "      <td>2</td>\n",
              "      <td>105</td>\n",
              "      <td>37</td>\n",
              "    </tr>\n",
              "    <tr>\n",
              "      <th>14</th>\n",
              "      <td>Doença</td>\n",
              "      <td>1</td>\n",
              "      <td>9</td>\n",
              "      <td>21</td>\n",
              "    </tr>\n",
              "  </tbody>\n",
              "</table>\n",
              "</div>\n",
              "    <div class=\"colab-df-buttons\">\n",
              "\n",
              "  <div class=\"colab-df-container\">\n",
              "    <button class=\"colab-df-convert\" onclick=\"convertToInteractive('df-29c00d53-b11e-4915-a661-3c0f71bb5e79')\"\n",
              "            title=\"Convert this dataframe to an interactive table.\"\n",
              "            style=\"display:none;\">\n",
              "\n",
              "  <svg xmlns=\"http://www.w3.org/2000/svg\" height=\"24px\" viewBox=\"0 -960 960 960\">\n",
              "    <path d=\"M120-120v-720h720v720H120Zm60-500h600v-160H180v160Zm220 220h160v-160H400v160Zm0 220h160v-160H400v160ZM180-400h160v-160H180v160Zm440 0h160v-160H620v160ZM180-180h160v-160H180v160Zm440 0h160v-160H620v160Z\"/>\n",
              "  </svg>\n",
              "    </button>\n",
              "\n",
              "  <style>\n",
              "    .colab-df-container {\n",
              "      display:flex;\n",
              "      gap: 12px;\n",
              "    }\n",
              "\n",
              "    .colab-df-convert {\n",
              "      background-color: #E8F0FE;\n",
              "      border: none;\n",
              "      border-radius: 50%;\n",
              "      cursor: pointer;\n",
              "      display: none;\n",
              "      fill: #1967D2;\n",
              "      height: 32px;\n",
              "      padding: 0 0 0 0;\n",
              "      width: 32px;\n",
              "    }\n",
              "\n",
              "    .colab-df-convert:hover {\n",
              "      background-color: #E2EBFA;\n",
              "      box-shadow: 0px 1px 2px rgba(60, 64, 67, 0.3), 0px 1px 3px 1px rgba(60, 64, 67, 0.15);\n",
              "      fill: #174EA6;\n",
              "    }\n",
              "\n",
              "    .colab-df-buttons div {\n",
              "      margin-bottom: 4px;\n",
              "    }\n",
              "\n",
              "    [theme=dark] .colab-df-convert {\n",
              "      background-color: #3B4455;\n",
              "      fill: #D2E3FC;\n",
              "    }\n",
              "\n",
              "    [theme=dark] .colab-df-convert:hover {\n",
              "      background-color: #434B5C;\n",
              "      box-shadow: 0px 1px 3px 1px rgba(0, 0, 0, 0.15);\n",
              "      filter: drop-shadow(0px 1px 2px rgba(0, 0, 0, 0.3));\n",
              "      fill: #FFFFFF;\n",
              "    }\n",
              "  </style>\n",
              "\n",
              "    <script>\n",
              "      const buttonEl =\n",
              "        document.querySelector('#df-29c00d53-b11e-4915-a661-3c0f71bb5e79 button.colab-df-convert');\n",
              "      buttonEl.style.display =\n",
              "        google.colab.kernel.accessAllowed ? 'block' : 'none';\n",
              "\n",
              "      async function convertToInteractive(key) {\n",
              "        const element = document.querySelector('#df-29c00d53-b11e-4915-a661-3c0f71bb5e79');\n",
              "        const dataTable =\n",
              "          await google.colab.kernel.invokeFunction('convertToInteractive',\n",
              "                                                    [key], {});\n",
              "        if (!dataTable) return;\n",
              "\n",
              "        const docLinkHtml = 'Like what you see? Visit the ' +\n",
              "          '<a target=\"_blank\" href=https://colab.research.google.com/notebooks/data_table.ipynb>data table notebook</a>'\n",
              "          + ' to learn more about interactive tables.';\n",
              "        element.innerHTML = '';\n",
              "        dataTable['output_type'] = 'display_data';\n",
              "        await google.colab.output.renderOutput(dataTable, element);\n",
              "        const docLink = document.createElement('div');\n",
              "        docLink.innerHTML = docLinkHtml;\n",
              "        element.appendChild(docLink);\n",
              "      }\n",
              "    </script>\n",
              "  </div>\n",
              "\n",
              "\n",
              "<div id=\"df-1da952bb-6051-4362-8c1b-26c63ab823aa\">\n",
              "  <button class=\"colab-df-quickchart\" onclick=\"quickchart('df-1da952bb-6051-4362-8c1b-26c63ab823aa')\"\n",
              "            title=\"Suggest charts.\"\n",
              "            style=\"display:none;\">\n",
              "\n",
              "<svg xmlns=\"http://www.w3.org/2000/svg\" height=\"24px\"viewBox=\"0 0 24 24\"\n",
              "     width=\"24px\">\n",
              "    <g>\n",
              "        <path d=\"M19 3H5c-1.1 0-2 .9-2 2v14c0 1.1.9 2 2 2h14c1.1 0 2-.9 2-2V5c0-1.1-.9-2-2-2zM9 17H7v-7h2v7zm4 0h-2V7h2v10zm4 0h-2v-4h2v4z\"/>\n",
              "    </g>\n",
              "</svg>\n",
              "  </button>\n",
              "\n",
              "<style>\n",
              "  .colab-df-quickchart {\n",
              "    background-color: #E8F0FE;\n",
              "    border: none;\n",
              "    border-radius: 50%;\n",
              "    cursor: pointer;\n",
              "    display: none;\n",
              "    fill: #1967D2;\n",
              "    height: 32px;\n",
              "    padding: 0 0 0 0;\n",
              "    width: 32px;\n",
              "  }\n",
              "\n",
              "  .colab-df-quickchart:hover {\n",
              "    background-color: #E2EBFA;\n",
              "    box-shadow: 0px 1px 2px rgba(60, 64, 67, 0.3), 0px 1px 3px 1px rgba(60, 64, 67, 0.15);\n",
              "    fill: #174EA6;\n",
              "  }\n",
              "\n",
              "  [theme=dark] .colab-df-quickchart {\n",
              "    background-color: #3B4455;\n",
              "    fill: #D2E3FC;\n",
              "  }\n",
              "\n",
              "  [theme=dark] .colab-df-quickchart:hover {\n",
              "    background-color: #434B5C;\n",
              "    box-shadow: 0px 1px 3px 1px rgba(0, 0, 0, 0.15);\n",
              "    filter: drop-shadow(0px 1px 2px rgba(0, 0, 0, 0.3));\n",
              "    fill: #FFFFFF;\n",
              "  }\n",
              "</style>\n",
              "\n",
              "  <script>\n",
              "    async function quickchart(key) {\n",
              "      const charts = await google.colab.kernel.invokeFunction(\n",
              "          'suggestCharts', [key], {});\n",
              "    }\n",
              "    (() => {\n",
              "      let quickchartButtonEl =\n",
              "        document.querySelector('#df-1da952bb-6051-4362-8c1b-26c63ab823aa button');\n",
              "      quickchartButtonEl.style.display =\n",
              "        google.colab.kernel.accessAllowed ? 'block' : 'none';\n",
              "    })();\n",
              "  </script>\n",
              "</div>\n",
              "    </div>\n",
              "  </div>\n"
            ]
          },
          "metadata": {},
          "execution_count": 7
        }
      ]
    },
    {
      "cell_type": "markdown",
      "source": [
        "- Vamos verificar o qual é o tipo de valores no nosso DataFrame, para fazer a conversão se necessário."
      ],
      "metadata": {
        "id": "rFpX_iMMbWDQ"
      }
    },
    {
      "cell_type": "code",
      "source": [
        "df.dtypes"
      ],
      "metadata": {
        "colab": {
          "base_uri": "https://localhost:8080/"
        },
        "id": "YODhOnNfa9np",
        "outputId": "425c528d-b95b-42c8-efb4-a6a872dbf9f9"
      },
      "execution_count": null,
      "outputs": [
        {
          "output_type": "execute_result",
          "data": {
            "text/plain": [
              "Causas de saída                        object\n",
              "Capacidade de Impactar                 object\n",
              "Parceiro RH                            object\n",
              "Entrevista de saída(ex-funcionario)    object\n",
              "dtype: object"
            ]
          },
          "metadata": {},
          "execution_count": 8
        }
      ]
    },
    {
      "cell_type": "markdown",
      "source": [
        "- Com todas as colunas do tipo 'object' nós não conseguimos fazer determinadas funções, então precisamos mudar nas colunas e linhas que são números para o tipo 'int"
      ],
      "metadata": {
        "id": "3guZ9xMEbeyo"
      }
    },
    {
      "cell_type": "code",
      "source": [
        "#Convertendo o tipo de valor das colunas\n",
        "df['Capacidade de Impactar'] = df['Capacidade de Impactar'].astype(int)\n",
        "df['Parceiro RH'] = df['Parceiro RH'].astype(int)\n",
        "df['Entrevista de saída(ex-funcionario)'] = df['Entrevista de saída(ex-funcionario)'].astype(int)"
      ],
      "metadata": {
        "id": "YwfZsWIMbvca"
      },
      "execution_count": null,
      "outputs": []
    },
    {
      "cell_type": "code",
      "source": [
        "#Verificando se a conversão foi feita com sucesso\n",
        "df.dtypes"
      ],
      "metadata": {
        "colab": {
          "base_uri": "https://localhost:8080/"
        },
        "id": "9xnG5DC7e_2p",
        "outputId": "b1211808-d89d-40ed-f2b1-fded53224ff6"
      },
      "execution_count": null,
      "outputs": [
        {
          "output_type": "execute_result",
          "data": {
            "text/plain": [
              "Causas de saída                        object\n",
              "Capacidade de Impactar                  int64\n",
              "Parceiro RH                             int64\n",
              "Entrevista de saída(ex-funcionario)     int64\n",
              "dtype: object"
            ]
          },
          "metadata": {},
          "execution_count": 10
        }
      ]
    },
    {
      "cell_type": "markdown",
      "source": [
        "###Análise"
      ],
      "metadata": {
        "id": "kN7OJ8EfhghQ"
      }
    },
    {
      "cell_type": "markdown",
      "source": [
        "- Para nossa análise exploratória iremos utilizar o Parceiro RH(HRBP) que é uma empresa ou pessoa qualificada para análisar o fluxo de funcionarios, e a entrevista de saída que são feitas com os funcionarios que estão deixando a empresa"
      ],
      "metadata": {
        "id": "SFHWOpD2Zjlp"
      }
    },
    {
      "cell_type": "code",
      "source": [
        "# Para isso vamos apagar a coluna Capacidade de Impactar\n",
        "df = df.drop('Capacidade de Impactar', axis=1)"
      ],
      "metadata": {
        "id": "R8AaVEmEaAmh"
      },
      "execution_count": null,
      "outputs": []
    },
    {
      "cell_type": "code",
      "source": [
        "df"
      ],
      "metadata": {
        "colab": {
          "base_uri": "https://localhost:8080/",
          "height": 394
        },
        "id": "3WHFJEriaOj5",
        "outputId": "543e9c0e-dacc-4ccd-c08e-d065e78ad497"
      },
      "execution_count": null,
      "outputs": [
        {
          "output_type": "execute_result",
          "data": {
            "text/plain": [
              "            Causas de saída  Parceiro RH  Entrevista de saída(ex-funcionario)\n",
              "4               Treinamento           31                                   23\n",
              "5       Conflito com outros           11                                   15\n",
              "6   Falta de reconhecimento           65                                   44\n",
              "7             Carga horária           14                                   39\n",
              "8    Progressão de carreira          137                                  171\n",
              "9               Remuneração           16                                   24\n",
              "10         Tipo de trabalho          128                                   78\n",
              "11      Mudança de carreira           18                                   30\n",
              "12                  Trajeto           31                                   22\n",
              "13               Realocação          105                                   37\n",
              "14                   Doença            9                                   21"
            ],
            "text/html": [
              "\n",
              "  <div id=\"df-4b8d57f2-d6ba-4f84-abbe-29edfe44a0d2\" class=\"colab-df-container\">\n",
              "    <div>\n",
              "<style scoped>\n",
              "    .dataframe tbody tr th:only-of-type {\n",
              "        vertical-align: middle;\n",
              "    }\n",
              "\n",
              "    .dataframe tbody tr th {\n",
              "        vertical-align: top;\n",
              "    }\n",
              "\n",
              "    .dataframe thead th {\n",
              "        text-align: right;\n",
              "    }\n",
              "</style>\n",
              "<table border=\"1\" class=\"dataframe\">\n",
              "  <thead>\n",
              "    <tr style=\"text-align: right;\">\n",
              "      <th></th>\n",
              "      <th>Causas de saída</th>\n",
              "      <th>Parceiro RH</th>\n",
              "      <th>Entrevista de saída(ex-funcionario)</th>\n",
              "    </tr>\n",
              "  </thead>\n",
              "  <tbody>\n",
              "    <tr>\n",
              "      <th>4</th>\n",
              "      <td>Treinamento</td>\n",
              "      <td>31</td>\n",
              "      <td>23</td>\n",
              "    </tr>\n",
              "    <tr>\n",
              "      <th>5</th>\n",
              "      <td>Conflito com outros</td>\n",
              "      <td>11</td>\n",
              "      <td>15</td>\n",
              "    </tr>\n",
              "    <tr>\n",
              "      <th>6</th>\n",
              "      <td>Falta de reconhecimento</td>\n",
              "      <td>65</td>\n",
              "      <td>44</td>\n",
              "    </tr>\n",
              "    <tr>\n",
              "      <th>7</th>\n",
              "      <td>Carga horária</td>\n",
              "      <td>14</td>\n",
              "      <td>39</td>\n",
              "    </tr>\n",
              "    <tr>\n",
              "      <th>8</th>\n",
              "      <td>Progressão de carreira</td>\n",
              "      <td>137</td>\n",
              "      <td>171</td>\n",
              "    </tr>\n",
              "    <tr>\n",
              "      <th>9</th>\n",
              "      <td>Remuneração</td>\n",
              "      <td>16</td>\n",
              "      <td>24</td>\n",
              "    </tr>\n",
              "    <tr>\n",
              "      <th>10</th>\n",
              "      <td>Tipo de trabalho</td>\n",
              "      <td>128</td>\n",
              "      <td>78</td>\n",
              "    </tr>\n",
              "    <tr>\n",
              "      <th>11</th>\n",
              "      <td>Mudança de carreira</td>\n",
              "      <td>18</td>\n",
              "      <td>30</td>\n",
              "    </tr>\n",
              "    <tr>\n",
              "      <th>12</th>\n",
              "      <td>Trajeto</td>\n",
              "      <td>31</td>\n",
              "      <td>22</td>\n",
              "    </tr>\n",
              "    <tr>\n",
              "      <th>13</th>\n",
              "      <td>Realocação</td>\n",
              "      <td>105</td>\n",
              "      <td>37</td>\n",
              "    </tr>\n",
              "    <tr>\n",
              "      <th>14</th>\n",
              "      <td>Doença</td>\n",
              "      <td>9</td>\n",
              "      <td>21</td>\n",
              "    </tr>\n",
              "  </tbody>\n",
              "</table>\n",
              "</div>\n",
              "    <div class=\"colab-df-buttons\">\n",
              "\n",
              "  <div class=\"colab-df-container\">\n",
              "    <button class=\"colab-df-convert\" onclick=\"convertToInteractive('df-4b8d57f2-d6ba-4f84-abbe-29edfe44a0d2')\"\n",
              "            title=\"Convert this dataframe to an interactive table.\"\n",
              "            style=\"display:none;\">\n",
              "\n",
              "  <svg xmlns=\"http://www.w3.org/2000/svg\" height=\"24px\" viewBox=\"0 -960 960 960\">\n",
              "    <path d=\"M120-120v-720h720v720H120Zm60-500h600v-160H180v160Zm220 220h160v-160H400v160Zm0 220h160v-160H400v160ZM180-400h160v-160H180v160Zm440 0h160v-160H620v160ZM180-180h160v-160H180v160Zm440 0h160v-160H620v160Z\"/>\n",
              "  </svg>\n",
              "    </button>\n",
              "\n",
              "  <style>\n",
              "    .colab-df-container {\n",
              "      display:flex;\n",
              "      gap: 12px;\n",
              "    }\n",
              "\n",
              "    .colab-df-convert {\n",
              "      background-color: #E8F0FE;\n",
              "      border: none;\n",
              "      border-radius: 50%;\n",
              "      cursor: pointer;\n",
              "      display: none;\n",
              "      fill: #1967D2;\n",
              "      height: 32px;\n",
              "      padding: 0 0 0 0;\n",
              "      width: 32px;\n",
              "    }\n",
              "\n",
              "    .colab-df-convert:hover {\n",
              "      background-color: #E2EBFA;\n",
              "      box-shadow: 0px 1px 2px rgba(60, 64, 67, 0.3), 0px 1px 3px 1px rgba(60, 64, 67, 0.15);\n",
              "      fill: #174EA6;\n",
              "    }\n",
              "\n",
              "    .colab-df-buttons div {\n",
              "      margin-bottom: 4px;\n",
              "    }\n",
              "\n",
              "    [theme=dark] .colab-df-convert {\n",
              "      background-color: #3B4455;\n",
              "      fill: #D2E3FC;\n",
              "    }\n",
              "\n",
              "    [theme=dark] .colab-df-convert:hover {\n",
              "      background-color: #434B5C;\n",
              "      box-shadow: 0px 1px 3px 1px rgba(0, 0, 0, 0.15);\n",
              "      filter: drop-shadow(0px 1px 2px rgba(0, 0, 0, 0.3));\n",
              "      fill: #FFFFFF;\n",
              "    }\n",
              "  </style>\n",
              "\n",
              "    <script>\n",
              "      const buttonEl =\n",
              "        document.querySelector('#df-4b8d57f2-d6ba-4f84-abbe-29edfe44a0d2 button.colab-df-convert');\n",
              "      buttonEl.style.display =\n",
              "        google.colab.kernel.accessAllowed ? 'block' : 'none';\n",
              "\n",
              "      async function convertToInteractive(key) {\n",
              "        const element = document.querySelector('#df-4b8d57f2-d6ba-4f84-abbe-29edfe44a0d2');\n",
              "        const dataTable =\n",
              "          await google.colab.kernel.invokeFunction('convertToInteractive',\n",
              "                                                    [key], {});\n",
              "        if (!dataTable) return;\n",
              "\n",
              "        const docLinkHtml = 'Like what you see? Visit the ' +\n",
              "          '<a target=\"_blank\" href=https://colab.research.google.com/notebooks/data_table.ipynb>data table notebook</a>'\n",
              "          + ' to learn more about interactive tables.';\n",
              "        element.innerHTML = '';\n",
              "        dataTable['output_type'] = 'display_data';\n",
              "        await google.colab.output.renderOutput(dataTable, element);\n",
              "        const docLink = document.createElement('div');\n",
              "        docLink.innerHTML = docLinkHtml;\n",
              "        element.appendChild(docLink);\n",
              "      }\n",
              "    </script>\n",
              "  </div>\n",
              "\n",
              "\n",
              "<div id=\"df-906fbfe2-5793-4710-a021-82c410b10f19\">\n",
              "  <button class=\"colab-df-quickchart\" onclick=\"quickchart('df-906fbfe2-5793-4710-a021-82c410b10f19')\"\n",
              "            title=\"Suggest charts.\"\n",
              "            style=\"display:none;\">\n",
              "\n",
              "<svg xmlns=\"http://www.w3.org/2000/svg\" height=\"24px\"viewBox=\"0 0 24 24\"\n",
              "     width=\"24px\">\n",
              "    <g>\n",
              "        <path d=\"M19 3H5c-1.1 0-2 .9-2 2v14c0 1.1.9 2 2 2h14c1.1 0 2-.9 2-2V5c0-1.1-.9-2-2-2zM9 17H7v-7h2v7zm4 0h-2V7h2v10zm4 0h-2v-4h2v4z\"/>\n",
              "    </g>\n",
              "</svg>\n",
              "  </button>\n",
              "\n",
              "<style>\n",
              "  .colab-df-quickchart {\n",
              "    background-color: #E8F0FE;\n",
              "    border: none;\n",
              "    border-radius: 50%;\n",
              "    cursor: pointer;\n",
              "    display: none;\n",
              "    fill: #1967D2;\n",
              "    height: 32px;\n",
              "    padding: 0 0 0 0;\n",
              "    width: 32px;\n",
              "  }\n",
              "\n",
              "  .colab-df-quickchart:hover {\n",
              "    background-color: #E2EBFA;\n",
              "    box-shadow: 0px 1px 2px rgba(60, 64, 67, 0.3), 0px 1px 3px 1px rgba(60, 64, 67, 0.15);\n",
              "    fill: #174EA6;\n",
              "  }\n",
              "\n",
              "  [theme=dark] .colab-df-quickchart {\n",
              "    background-color: #3B4455;\n",
              "    fill: #D2E3FC;\n",
              "  }\n",
              "\n",
              "  [theme=dark] .colab-df-quickchart:hover {\n",
              "    background-color: #434B5C;\n",
              "    box-shadow: 0px 1px 3px 1px rgba(0, 0, 0, 0.15);\n",
              "    filter: drop-shadow(0px 1px 2px rgba(0, 0, 0, 0.3));\n",
              "    fill: #FFFFFF;\n",
              "  }\n",
              "</style>\n",
              "\n",
              "  <script>\n",
              "    async function quickchart(key) {\n",
              "      const charts = await google.colab.kernel.invokeFunction(\n",
              "          'suggestCharts', [key], {});\n",
              "    }\n",
              "    (() => {\n",
              "      let quickchartButtonEl =\n",
              "        document.querySelector('#df-906fbfe2-5793-4710-a021-82c410b10f19 button');\n",
              "      quickchartButtonEl.style.display =\n",
              "        google.colab.kernel.accessAllowed ? 'block' : 'none';\n",
              "    })();\n",
              "  </script>\n",
              "</div>\n",
              "    </div>\n",
              "  </div>\n"
            ]
          },
          "metadata": {},
          "execution_count": 12
        }
      ]
    },
    {
      "cell_type": "markdown",
      "source": [
        "- Para verificar qual é o maior causador de saídas, segundo os ex-funcionarios vamos utilizar a função max(), que ela irá identificar o maior valor da coluna e para a nossa análise vai ser o suficiente para verificar o maior causador de saídas nessa primeira parte."
      ],
      "metadata": {
        "id": "QBzZpUYdaVgA"
      }
    },
    {
      "cell_type": "code",
      "source": [
        "#Com o comando max, verificamos qual é o maior valor da coluna\n",
        "mvex = df['Entrevista de saída(ex-funcionario)'].max()"
      ],
      "metadata": {
        "id": "L6UPyAO6aU9Q"
      },
      "execution_count": null,
      "outputs": []
    },
    {
      "cell_type": "markdown",
      "source": [
        "- - O maior causador de saídas segundo os ex-funcionarios seria a progressão de carreira, a oportunidade de crescimento dentro da empresa."
      ],
      "metadata": {
        "id": "FMkmKdVFfVux"
      }
    },
    {
      "cell_type": "markdown",
      "source": [
        "- Agora vamos verificar segundo o Parceiro RH(HRBP) qual é o maior causador de saídas"
      ],
      "metadata": {
        "id": "swhFgdv_f0Yb"
      }
    },
    {
      "cell_type": "code",
      "source": [
        "mvrh = df['Parceiro RH'].max()"
      ],
      "metadata": {
        "id": "1WouPKJlfVU3"
      },
      "execution_count": null,
      "outputs": []
    },
    {
      "cell_type": "markdown",
      "source": [
        "- - Segundo o Parceiro RH, o maior causador de saídas da empresa também é a progressão de carreira"
      ],
      "metadata": {
        "id": "9eDin9lUgHtR"
      }
    },
    {
      "cell_type": "markdown",
      "source": [
        "- Vamos analisar agora a porcentagem que representa o motivo progressão de carreira"
      ],
      "metadata": {
        "id": "xNSjQ1OP929a"
      }
    },
    {
      "cell_type": "code",
      "source": [
        "# Verificando a porcentagem ex-funcionarios\n",
        "porcentagem1 = ((df['Entrevista de saída(ex-funcionario)'].max() / df['Entrevista de saída(ex-funcionario)'].sum())*100).round(2)\n",
        "print(f'A porcentagem de pessoas que sairam da empresa pelo motivo da progressão de carreira é {porcentagem1}%')"
      ],
      "metadata": {
        "colab": {
          "base_uri": "https://localhost:8080/"
        },
        "id": "I-QJBEYg9zub",
        "outputId": "b03345cb-93bc-4bc3-fea4-324b6edc6344"
      },
      "execution_count": null,
      "outputs": [
        {
          "output_type": "stream",
          "name": "stdout",
          "text": [
            "A porcentagem de pessoas que sairam da empresa pelo motivo da progressão de carreira é 33.93%\n"
          ]
        }
      ]
    },
    {
      "cell_type": "code",
      "source": [
        "# Verificando a porcentagem Parcerio RH(HRBP)\n",
        "porcentagem2 = ((df['Parceiro RH'].max() / df['Parceiro RH'].sum())*100).round(2)\n",
        "print(f'A porcentagem de pessoas que sairam da empresa pelo motivo da progressão de carreira é {porcentagem2}%')\n"
      ],
      "metadata": {
        "colab": {
          "base_uri": "https://localhost:8080/"
        },
        "id": "675hLz2e_MKS",
        "outputId": "95b5c14c-83e8-4409-9e62-e1d95deb15b0"
      },
      "execution_count": null,
      "outputs": [
        {
          "output_type": "stream",
          "name": "stdout",
          "text": [
            "A porcentagem de pessoas que sairam da empresa pelo motivo da progressão de carreira é 24.25%\n"
          ]
        }
      ]
    },
    {
      "cell_type": "markdown",
      "source": [
        "- Vamos analisar agora a média dos motivos de saída para verificar se a progressão de carreira fica muito a cima da média"
      ],
      "metadata": {
        "id": "5ykNbbeXAbvi"
      }
    },
    {
      "cell_type": "code",
      "source": [
        "# Verificando a média ex-funcionarios\n",
        "media1 = (df['Entrevista de saída(ex-funcionario)'].mean()).round(2)\n",
        "print(f'Verificando a média segundo os ex-funcionarios {media1} percebemos que o maior motivo de saída fica muito a cima {mvex}')"
      ],
      "metadata": {
        "colab": {
          "base_uri": "https://localhost:8080/"
        },
        "id": "dx651xWsA3x7",
        "outputId": "55a9ab83-2860-4dc2-a77a-2af524c1c5dd"
      },
      "execution_count": null,
      "outputs": [
        {
          "output_type": "stream",
          "name": "stdout",
          "text": [
            "Verificando a média segundo os ex-funcionarios 45.82 percebemos que o maior motivo de saída fica muito a cima 171\n"
          ]
        }
      ]
    },
    {
      "cell_type": "code",
      "source": [
        "# Verificando a média Parceiro RH(HRBP)\n",
        "media2 = (df['Parceiro RH'].mean()).round(2)\n",
        "print(f'Verificando a média segundo o HRBP {media2} percebemos que o maior motivo de saída fica muito a cima {mvrh}')"
      ],
      "metadata": {
        "colab": {
          "base_uri": "https://localhost:8080/"
        },
        "id": "3TmhqI25A_tC",
        "outputId": "afab0dc5-3eeb-4607-d6b0-bd072e64ce2a"
      },
      "execution_count": null,
      "outputs": [
        {
          "output_type": "stream",
          "name": "stdout",
          "text": [
            "Verificando a média segundo o HRBP 51.36 percebemos que o maior motivo de saída fica muito a cima 137\n"
          ]
        }
      ]
    },
    {
      "cell_type": "markdown",
      "source": [
        "- Para conseguirmos visualizar melhor esses valores discrepantes, podemos utilizar o gráfico boxplot"
      ],
      "metadata": {
        "id": "UPooAgqFCGVC"
      }
    },
    {
      "cell_type": "code",
      "source": [
        "# Gráfico boxplot ex-funcionarios\n",
        "df['Entrevista de saída(ex-funcionario)'].plot.box(vert=False, figsize=(15,2))\n"
      ],
      "metadata": {
        "colab": {
          "base_uri": "https://localhost:8080/",
          "height": 232
        },
        "id": "_yMGU4naCXj5",
        "outputId": "04dadcba-5bcf-4c1f-bbd8-d204cc43ef36"
      },
      "execution_count": null,
      "outputs": [
        {
          "output_type": "execute_result",
          "data": {
            "text/plain": [
              "<Axes: >"
            ]
          },
          "metadata": {},
          "execution_count": 44
        },
        {
          "output_type": "display_data",
          "data": {
            "text/plain": [
              "<Figure size 1500x200 with 1 Axes>"
            ],
            "image/png": "[encoded data removed]"
          },
          "metadata": {}
        }
      ]
    },
    {
      "cell_type": "code",
      "source": [
        "# Gráfico boxplot Parceiro HH(HRBP)\n",
        "df['Parceiro RH'].plot.box(vert=False, figsize=(15,2))"
      ],
      "metadata": {
        "colab": {
          "base_uri": "https://localhost:8080/",
          "height": 232
        },
        "id": "xyMAAnZEDJ4i",
        "outputId": "5d9a5aba-4194-4ad7-c960-6a00e9d575ee"
      },
      "execution_count": null,
      "outputs": [
        {
          "output_type": "execute_result",
          "data": {
            "text/plain": [
              "<Axes: >"
            ]
          },
          "metadata": {},
          "execution_count": 45
        },
        {
          "output_type": "display_data",
          "data": {
            "text/plain": [
              "<Figure size 1500x200 with 1 Axes>"
            ],
            "image/png": "[encoded data removed]"
          },
          "metadata": {}
        }
      ]
    },
    {
      "cell_type": "markdown",
      "source": [
        "- Mesmo na coleta de dados do HRBP tendo outros motivos com valores aproximados da principal causa na qual determinamos ser o maior motivo de saídas da empresa, ele ainda continua sendo o maior motivo, e chego a essa conclusão devido a ele ser dominante na entrevista de saída com ex-funcionarios."
      ],
      "metadata": {
        "id": "9iGgKZcfDarT"
      }
    },
    {
      "cell_type": "markdown",
      "source": [
        "### Conclusão"
      ],
      "metadata": {
        "id": "vyAg2MImhUMK"
      }
    },
    {
      "cell_type": "markdown",
      "source": [
        "- <font color = darkblue> Com base na análise exploratória realizada, concluímos que o principal motivo para a saída dos funcionários é a progressão de carreira. Isso indica que os funcionários estão buscando oportunidades de crescimento e desenvolvimento em suas carreiras, e podem não estar encontrando essas oportunidades dentro da empresa. É importante que a empresa avalie suas políticas de progressão de carreira e desenvolvimento profissional para garantir que os funcionários tenham oportunidades de crescimento e se sintam valorizados. Isso pode ajudar a reter talentos e reduzir a rotatividade de funcionários."
      ],
      "metadata": {
        "id": "wEsCgxW5gWHo"
      }
    },
    {
      "cell_type": "markdown",
      "source": [
        "### Links para visualização dos gráficos e do dashboard"
      ],
      "metadata": {
        "id": "IwnWAS-sy9DN"
      }
    },
    {
      "cell_type": "markdown",
      "source": [
        "- Mapa de árvore:\n",
        "https://public.tableau.com/app/profile/jo.o.vitor.cunha/viz/Mapadervore_16933598841650/Mapadervore\n",
        "\n",
        "\n",
        "![Mapa de Arvore](https://dc694.4shared.com/img/uK5BV8_dku/s23/18a57c16618/Mapa_de_arvore)\n",
        "\n",
        "\n",
        "<font color = green>Benefícios:\n",
        "\n",
        "Visualização Hierárquica: Ótimos para representar hierarquias e estruturas de decisão.\n",
        "\n",
        "Compreensão Rápida: Facilitam a compreensão rápida de estruturas complexas.\n",
        "\n",
        "Tomada de Decisão: Úteis para representar árvores de decisão em algoritmos e processos de tomada de decisão.\n",
        "\n",
        "Identificação de Problemas: Permitem identificar problemas ou desvios rapidamente.\n",
        "\n",
        "<font color = red>Malefícios:\n",
        "\n",
        "Limitações para Dados Contínuos: Menos eficazes para dados contínuos ou numéricos.\n",
        "\n",
        "Espaço Limitado: Podem se tornar densos em árvores complexas, ocupando muito espaço.\n",
        "\n",
        "Simplificação Excessiva: Às vezes, a simplificação pode resultar na perda de detalhes.\n",
        "\n",
        "Necessidade de Interpretação: Interpretação pode ser complicada em árvores muito grandes.\n",
        "\n",
        "Limitações para Grandes Conjuntos de Dados: Podem não ser eficazes para grandes conjuntos de dados com hierarquias profundas."
      ],
      "metadata": {
        "id": "B6OK1v51yKpn"
      }
    },
    {
      "cell_type": "markdown",
      "source": [
        "- Barras duplas:\n",
        "https://public.tableau.com/app/profile/jo.o.vitor.cunha/viz/GrficodeBarrasLadoaLado/GrficodeBarras\n",
        "\n",
        "![Barras lado a lado](https://dc694.4shared.com/img/ciyEzKq-ge/s23/18a57c15e48/Barras_lado_a_lado)\n",
        "\n",
        "\n",
        "<font color = green>Benefícios:\n",
        "\n",
        "Comparação Direta: Permitem a comparação direta de duas séries de dados lado a lado, facilitando a análise de diferenças e padrões.\n",
        "\n",
        "Ênfase na Diferença: Destacam as diferenças entre as duas séries, o que é útil para enfatizar contrastes.\n",
        "\n",
        "Visualização Clara: Oferecem uma representação visual clara e intuitiva, tornando os dados mais compreensíveis.\n",
        "\n",
        "Uso para Categorias Discretas: São eficazes quando se trabalha com categorias discretas, como produtos, anos ou regiões.\n",
        "\n",
        "<font color = red>Malefícios:\n",
        "\n",
        "Complexidade Visual: Quando mal projetados, gráficos de barras duplas podem se tornar visualmente complexos, dificultando a interpretação.\n",
        "\n",
        "Dificuldade de Comparação Absoluta: Podem dificultar a comparação absoluta de valores entre as séries, especialmente se os eixos não forem devidamente rotulados.\n",
        "\n",
        "Requer Espaço Horizontal: Normalmente, ocupam mais espaço horizontal do que outros tipos de gráficos, o que pode ser um problema em relatórios com espaço limitado.\n",
        "\n",
        "Limitado a Duas Séries: São mais adequados para a comparação de duas séries de dados; não são ideais para várias séries.\n"
      ],
      "metadata": {
        "id": "y6LaAQhh7rpX"
      }
    },
    {
      "cell_type": "markdown",
      "source": [
        "- Barras horizontais: https://public.tableau.com/app/profile/jo.o.vitor.cunha/viz/GrficodeBarrasHorizontais/GrficodeBarrasDeitadas\n",
        "\n",
        "![Barras Horizontais](https://dc694.4shared.com/img/zny3A0M-jq/s23/18a57c15a60/Barras_horizontais)\n",
        "\n",
        "\n",
        "<font color = green>Benefícios:\n",
        "\n",
        "Comparação Simples: Permitem uma comparação direta entre duas ou mais categorias, tornando fácil identificar diferenças e tendências.\n",
        "\n",
        "Ênfase na Variação: Destacam as variações entre as categorias, tornando mais simples destacar discrepâncias.\n",
        "\n",
        "Apresentação Visual Clara: Oferecem uma representação visual clara e intuitiva dos dados, tornando as informações mais acessíveis.\n",
        "\n",
        "Versatilidade: Podem ser usados para comparar diferentes grupos de dados, como vendas por região ou desempenho de equipes.\n",
        "\n",
        "<font color = red>Malefícios:\n",
        "\n",
        "Espaço Horizontal: Requerem espaço horizontal significativo para exibir as categorias lado a lado, o que pode ser um desafio em gráficos com espaço limitado.\n",
        "\n",
        "Visualmente Complexos: Quando muitas categorias são usadas, os gráficos de barras lado a lado podem se tornar visualmente complexos e difíceis de interpretar.\n",
        "\n",
        "Limitados para Categorias Discretas: São mais eficazes quando se trabalha com categorias discretas, como produtos ou regiões, e podem não ser ideais para dados contínuos.\n",
        "\n",
        "Desafio de Legendas: Com um grande número de categorias, pode ser necessário usar legendas, o que pode dificultar a leitura."
      ],
      "metadata": {
        "id": "JgluBmxZpDGy"
      }
    },
    {
      "cell_type": "markdown",
      "source": [
        "- Dashboard com interação no mapa de árvore: https://public.tableau.com/app/profile/jo.o.vitor.cunha/viz/DashboardcominteraonoMapadervore/Dashboard\n",
        "\n",
        "![Dashboard](https://dc396.4shared.com/img/BMUa_j5xfa/s23/18a57c16230/Dashboard)\n",
        "\n",
        "<font color = green>Benefícios:\n",
        "\n",
        "Visualização de Dados Simplificada: Um dashboard oferece uma visão simplificada dos dados, tornando as informações complexas mais compreensíveis.\n",
        "\n",
        "Tomada de Decisão Rápida: Facilita a tomada de decisão rápida, uma vez que as informações essenciais estão disponíveis em um único local.\n",
        "\n",
        "Monitoramento em Tempo Real: Permite o monitoramento em tempo real de métricas e KPIs importantes.\n",
        "\n",
        "Identificação de Tendências: Ajuda na identificação de tendências e padrões nos dados, o que pode ser valioso para análises futuras.\n",
        "\n",
        "Customização: É altamente personalizável, permitindo que os usuários escolham quais métricas desejam visualizar.\n",
        "\n",
        "Acessibilidade: Pode ser acessado de qualquer lugar, muitas vezes por meio da nuvem.\n",
        "\n",
        "Economia de Tempo: Economiza tempo ao centralizar informações e evitar a necessidade de procurar em várias fontes.\n",
        "\n",
        "Compartilhamento de Informações: Facilita o compartilhamento de informações e colaboração entre equipes.\n",
        "\n",
        "Melhorias na Produtividade: Ajuda a aumentar a eficiência e produtividade, uma vez que os dados importantes estão prontamente disponíveis.\n",
        "\n",
        "Suporte à Estratégia de Negócios: Contribui para o alinhamento com metas e estratégias de negócios.\n",
        "\n",
        "Feedback e Aprendizado: Fornece feedback contínuo e oportunidades de aprendizado com base nos dados."
      ],
      "metadata": {
        "id": "GjgTKl7GpGMJ"
      }
    },
    {
      "cell_type": "markdown",
      "source": [
        "### Conclusão da visualização dos gráficos"
      ],
      "metadata": {
        "id": "5fke3QF3p5bZ"
      }
    },
    {
      "cell_type": "markdown",
      "source": [
        "<font color = darkblue>- De acordo com os dados que foram fornecidos para análise o gráfico de barras duplas é a melhor opção, pois permite uma comparação clara e direta entre duas séries de dados, destacando as diferenças e tendências de forma eficaz. Ele fornece uma representação visual intuitiva que facilita a interpretação dos dados e destaca as variações de maneira visualmente impactante. Além disso, sua versatilidade o torna ideal para uma ampla gama de cenários de análise, tornando-o a escolha preferida para apresentar e comunicar informações de maneira eficaz."
      ],
      "metadata": {
        "id": "pym7AzZ9qRCC"
      }
    }
  ]
}