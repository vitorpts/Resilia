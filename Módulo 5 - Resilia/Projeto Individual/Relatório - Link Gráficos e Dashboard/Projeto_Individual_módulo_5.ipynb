{
  "nbformat": 4,
  "nbformat_minor": 0,
  "metadata": {
    "colab": {
      "provenance": []
    },
    "kernelspec": {
      "name": "python3",
      "display_name": "Python 3"
    },
    "language_info": {
      "name": "python"
    }
  },
  "cells": [
    {
      "cell_type": "markdown",
      "source": [
        "#<font color = darkblue> Análise Exploratória (Qual é o maior motivo dos funcionarios sairem da empresa?)\n",
        "\n",
        "\n"
      ],
      "metadata": {
        "id": "7LDidVxHfbHN"
      }
    },
    {
      "cell_type": "markdown",
      "source": [
        "### Importando bibliotecas para uso"
      ],
      "metadata": {
        "id": "Lk0vT7Unf0ss"
      }
    },
    {
      "cell_type": "code",
      "execution_count": null,
      "metadata": {
        "id": "gSuD11CpfLNT"
      },
      "outputs": [],
      "source": [
        "import pandas as pd\n",
        "import numpy as np"
      ]
    },
    {
      "cell_type": "markdown",
      "source": [
        "### Importando arquivo para análise"
      ],
      "metadata": {
        "id": "ArmBhOKwfm1V"
      }
    },
    {
      "cell_type": "code",
      "source": [
        "#Importando o arquivo xlsx\n",
        "df = pd.read_excel('Projeto_Individual.xlsx')\n",
        "#Renomeando as colunas\n",
        "df = df.rename(columns={'Unnamed: 0':'A','Unnamed: 1':'Causas de saída','Unnamed: 2':'Capacidade de Impactar','Unnamed: 3':'Parceiro RH', 'Unnamed: 4':'Entrevista de saída(ex-funcionario)'})\n",
        "df"
      ],
      "metadata": {
        "colab": {
          "base_uri": "https://localhost:8080/",
          "height": 519
        },
        "id": "nq53mqS6fls9",
        "outputId": "d21aa6aa-2057-4eff-c2e6-84c4b8a09907"
      },
      "execution_count": null,
      "outputs": [
        {
          "output_type": "execute_result",
          "data": {
            "text/plain": [
              "     A       Causas de saída Capacidade de Impactar Parceiro RH  \\\n",
              "0  NaN                   NaN                    NaN         NaN   \n",
              "1  NaN                 Dados                    NaN         NaN   \n",
              "2  NaN                   NaN                    NaN         NaN   \n",
              "3  NaN                   NaN      Ability to impact        HRBP   \n",
              "4  NaN              Training                     11          31   \n",
              "5  NaN  Conflict with others                     10          11   \n",
              "6  NaN   Lack of recognition                      9          65   \n",
              "7  NaN              Workload                      8          14   \n",
              "8  NaN    Career advancement                      7         137   \n",
              "9  NaN                   Pay                      6          16   \n",
              "10 NaN          Type of work                      5         128   \n",
              "11 NaN         Career change                      4          18   \n",
              "12 NaN               Commute                      3          31   \n",
              "13 NaN            Relocation                      2         105   \n",
              "14 NaN               Illness                      1           9   \n",
              "\n",
              "   Entrevista de saída(ex-funcionario)  \n",
              "0                                  NaN  \n",
              "1                                  NaN  \n",
              "2                                  NaN  \n",
              "3                          Exit survey  \n",
              "4                                   23  \n",
              "5                                   15  \n",
              "6                                   44  \n",
              "7                                   39  \n",
              "8                                  171  \n",
              "9                                   24  \n",
              "10                                  78  \n",
              "11                                  30  \n",
              "12                                  22  \n",
              "13                                  37  \n",
              "14                                  21  "
            ],
            "text/html": [
              "\n",
              "  <div id=\"df-c5e45769-3f3c-4766-9f7b-bb2b80b5e676\" class=\"colab-df-container\">\n",
              "    <div>\n",
              "<style scoped>\n",
              "    .dataframe tbody tr th:only-of-type {\n",
              "        vertical-align: middle;\n",
              "    }\n",
              "\n",
              "    .dataframe tbody tr th {\n",
              "        vertical-align: top;\n",
              "    }\n",
              "\n",
              "    .dataframe thead th {\n",
              "        text-align: right;\n",
              "    }\n",
              "</style>\n",
              "<table border=\"1\" class=\"dataframe\">\n",
              "  <thead>\n",
              "    <tr style=\"text-align: right;\">\n",
              "      <th></th>\n",
              "      <th>A</th>\n",
              "      <th>Causas de saída</th>\n",
              "      <th>Capacidade de Impactar</th>\n",
              "      <th>Parceiro RH</th>\n",
              "      <th>Entrevista de saída(ex-funcionario)</th>\n",
              "    </tr>\n",
              "  </thead>\n",
              "  <tbody>\n",
              "    <tr>\n",
              "      <th>0</th>\n",
              "      <td>NaN</td>\n",
              "      <td>NaN</td>\n",
              "      <td>NaN</td>\n",
              "      <td>NaN</td>\n",
              "      <td>NaN</td>\n",
              "    </tr>\n",
              "    <tr>\n",
              "      <th>1</th>\n",
              "      <td>NaN</td>\n",
              "      <td>Dados</td>\n",
              "      <td>NaN</td>\n",
              "      <td>NaN</td>\n",
              "      <td>NaN</td>\n",
              "    </tr>\n",
              "    <tr>\n",
              "      <th>2</th>\n",
              "      <td>NaN</td>\n",
              "      <td>NaN</td>\n",
              "      <td>NaN</td>\n",
              "      <td>NaN</td>\n",
              "      <td>NaN</td>\n",
              "    </tr>\n",
              "    <tr>\n",
              "      <th>3</th>\n",
              "      <td>NaN</td>\n",
              "      <td>NaN</td>\n",
              "      <td>Ability to impact</td>\n",
              "      <td>HRBP</td>\n",
              "      <td>Exit survey</td>\n",
              "    </tr>\n",
              "    <tr>\n",
              "      <th>4</th>\n",
              "      <td>NaN</td>\n",
              "      <td>Training</td>\n",
              "      <td>11</td>\n",
              "      <td>31</td>\n",
              "      <td>23</td>\n",
              "    </tr>\n",
              "    <tr>\n",
              "      <th>5</th>\n",
              "      <td>NaN</td>\n",
              "      <td>Conflict with others</td>\n",
              "      <td>10</td>\n",
              "      <td>11</td>\n",
              "      <td>15</td>\n",
              "    </tr>\n",
              "    <tr>\n",
              "      <th>6</th>\n",
              "      <td>NaN</td>\n",
              "      <td>Lack of recognition</td>\n",
              "      <td>9</td>\n",
              "      <td>65</td>\n",
              "      <td>44</td>\n",
              "    </tr>\n",
              "    <tr>\n",
              "      <th>7</th>\n",
              "      <td>NaN</td>\n",
              "      <td>Workload</td>\n",
              "      <td>8</td>\n",
              "      <td>14</td>\n",
              "      <td>39</td>\n",
              "    </tr>\n",
              "    <tr>\n",
              "      <th>8</th>\n",
              "      <td>NaN</td>\n",
              "      <td>Career advancement</td>\n",
              "      <td>7</td>\n",
              "      <td>137</td>\n",
              "      <td>171</td>\n",
              "    </tr>\n",
              "    <tr>\n",
              "      <th>9</th>\n",
              "      <td>NaN</td>\n",
              "      <td>Pay</td>\n",
              "      <td>6</td>\n",
              "      <td>16</td>\n",
              "      <td>24</td>\n",
              "    </tr>\n",
              "    <tr>\n",
              "      <th>10</th>\n",
              "      <td>NaN</td>\n",
              "      <td>Type of work</td>\n",
              "      <td>5</td>\n",
              "      <td>128</td>\n",
              "      <td>78</td>\n",
              "    </tr>\n",
              "    <tr>\n",
              "      <th>11</th>\n",
              "      <td>NaN</td>\n",
              "      <td>Career change</td>\n",
              "      <td>4</td>\n",
              "      <td>18</td>\n",
              "      <td>30</td>\n",
              "    </tr>\n",
              "    <tr>\n",
              "      <th>12</th>\n",
              "      <td>NaN</td>\n",
              "      <td>Commute</td>\n",
              "      <td>3</td>\n",
              "      <td>31</td>\n",
              "      <td>22</td>\n",
              "    </tr>\n",
              "    <tr>\n",
              "      <th>13</th>\n",
              "      <td>NaN</td>\n",
              "      <td>Relocation</td>\n",
              "      <td>2</td>\n",
              "      <td>105</td>\n",
              "      <td>37</td>\n",
              "    </tr>\n",
              "    <tr>\n",
              "      <th>14</th>\n",
              "      <td>NaN</td>\n",
              "      <td>Illness</td>\n",
              "      <td>1</td>\n",
              "      <td>9</td>\n",
              "      <td>21</td>\n",
              "    </tr>\n",
              "  </tbody>\n",
              "</table>\n",
              "</div>\n",
              "    <div class=\"colab-df-buttons\">\n",
              "\n",
              "  <div class=\"colab-df-container\">\n",
              "    <button class=\"colab-df-convert\" onclick=\"convertToInteractive('df-c5e45769-3f3c-4766-9f7b-bb2b80b5e676')\"\n",
              "            title=\"Convert this dataframe to an interactive table.\"\n",
              "            style=\"display:none;\">\n",
              "\n",
              "  <svg xmlns=\"http://www.w3.org/2000/svg\" height=\"24px\" viewBox=\"0 -960 960 960\">\n",
              "    <path d=\"M120-120v-720h720v720H120Zm60-500h600v-160H180v160Zm220 220h160v-160H400v160Zm0 220h160v-160H400v160ZM180-400h160v-160H180v160Zm440 0h160v-160H620v160ZM180-180h160v-160H180v160Zm440 0h160v-160H620v160Z\"/>\n",
              "  </svg>\n",
              "    </button>\n",
              "\n",
              "  <style>\n",
              "    .colab-df-container {\n",
              "      display:flex;\n",
              "      gap: 12px;\n",
              "    }\n",
              "\n",
              "    .colab-df-convert {\n",
              "      background-color: #E8F0FE;\n",
              "      border: none;\n",
              "      border-radius: 50%;\n",
              "      cursor: pointer;\n",
              "      display: none;\n",
              "      fill: #1967D2;\n",
              "      height: 32px;\n",
              "      padding: 0 0 0 0;\n",
              "      width: 32px;\n",
              "    }\n",
              "\n",
              "    .colab-df-convert:hover {\n",
              "      background-color: #E2EBFA;\n",
              "      box-shadow: 0px 1px 2px rgba(60, 64, 67, 0.3), 0px 1px 3px 1px rgba(60, 64, 67, 0.15);\n",
              "      fill: #174EA6;\n",
              "    }\n",
              "\n",
              "    .colab-df-buttons div {\n",
              "      margin-bottom: 4px;\n",
              "    }\n",
              "\n",
              "    [theme=dark] .colab-df-convert {\n",
              "      background-color: #3B4455;\n",
              "      fill: #D2E3FC;\n",
              "    }\n",
              "\n",
              "    [theme=dark] .colab-df-convert:hover {\n",
              "      background-color: #434B5C;\n",
              "      box-shadow: 0px 1px 3px 1px rgba(0, 0, 0, 0.15);\n",
              "      filter: drop-shadow(0px 1px 2px rgba(0, 0, 0, 0.3));\n",
              "      fill: #FFFFFF;\n",
              "    }\n",
              "  </style>\n",
              "\n",
              "    <script>\n",
              "      const buttonEl =\n",
              "        document.querySelector('#df-c5e45769-3f3c-4766-9f7b-bb2b80b5e676 button.colab-df-convert');\n",
              "      buttonEl.style.display =\n",
              "        google.colab.kernel.accessAllowed ? 'block' : 'none';\n",
              "\n",
              "      async function convertToInteractive(key) {\n",
              "        const element = document.querySelector('#df-c5e45769-3f3c-4766-9f7b-bb2b80b5e676');\n",
              "        const dataTable =\n",
              "          await google.colab.kernel.invokeFunction('convertToInteractive',\n",
              "                                                    [key], {});\n",
              "        if (!dataTable) return;\n",
              "\n",
              "        const docLinkHtml = 'Like what you see? Visit the ' +\n",
              "          '<a target=\"_blank\" href=https://colab.research.google.com/notebooks/data_table.ipynb>data table notebook</a>'\n",
              "          + ' to learn more about interactive tables.';\n",
              "        element.innerHTML = '';\n",
              "        dataTable['output_type'] = 'display_data';\n",
              "        await google.colab.output.renderOutput(dataTable, element);\n",
              "        const docLink = document.createElement('div');\n",
              "        docLink.innerHTML = docLinkHtml;\n",
              "        element.appendChild(docLink);\n",
              "      }\n",
              "    </script>\n",
              "  </div>\n",
              "\n",
              "\n",
              "<div id=\"df-1f725e55-e4ef-49d1-872f-353dc98a112a\">\n",
              "  <button class=\"colab-df-quickchart\" onclick=\"quickchart('df-1f725e55-e4ef-49d1-872f-353dc98a112a')\"\n",
              "            title=\"Suggest charts.\"\n",
              "            style=\"display:none;\">\n",
              "\n",
              "<svg xmlns=\"http://www.w3.org/2000/svg\" height=\"24px\"viewBox=\"0 0 24 24\"\n",
              "     width=\"24px\">\n",
              "    <g>\n",
              "        <path d=\"M19 3H5c-1.1 0-2 .9-2 2v14c0 1.1.9 2 2 2h14c1.1 0 2-.9 2-2V5c0-1.1-.9-2-2-2zM9 17H7v-7h2v7zm4 0h-2V7h2v10zm4 0h-2v-4h2v4z\"/>\n",
              "    </g>\n",
              "</svg>\n",
              "  </button>\n",
              "\n",
              "<style>\n",
              "  .colab-df-quickchart {\n",
              "    background-color: #E8F0FE;\n",
              "    border: none;\n",
              "    border-radius: 50%;\n",
              "    cursor: pointer;\n",
              "    display: none;\n",
              "    fill: #1967D2;\n",
              "    height: 32px;\n",
              "    padding: 0 0 0 0;\n",
              "    width: 32px;\n",
              "  }\n",
              "\n",
              "  .colab-df-quickchart:hover {\n",
              "    background-color: #E2EBFA;\n",
              "    box-shadow: 0px 1px 2px rgba(60, 64, 67, 0.3), 0px 1px 3px 1px rgba(60, 64, 67, 0.15);\n",
              "    fill: #174EA6;\n",
              "  }\n",
              "\n",
              "  [theme=dark] .colab-df-quickchart {\n",
              "    background-color: #3B4455;\n",
              "    fill: #D2E3FC;\n",
              "  }\n",
              "\n",
              "  [theme=dark] .colab-df-quickchart:hover {\n",
              "    background-color: #434B5C;\n",
              "    box-shadow: 0px 1px 3px 1px rgba(0, 0, 0, 0.15);\n",
              "    filter: drop-shadow(0px 1px 2px rgba(0, 0, 0, 0.3));\n",
              "    fill: #FFFFFF;\n",
              "  }\n",
              "</style>\n",
              "\n",
              "  <script>\n",
              "    async function quickchart(key) {\n",
              "      const charts = await google.colab.kernel.invokeFunction(\n",
              "          'suggestCharts', [key], {});\n",
              "    }\n",
              "    (() => {\n",
              "      let quickchartButtonEl =\n",
              "        document.querySelector('#df-1f725e55-e4ef-49d1-872f-353dc98a112a button');\n",
              "      quickchartButtonEl.style.display =\n",
              "        google.colab.kernel.accessAllowed ? 'block' : 'none';\n",
              "    })();\n",
              "  </script>\n",
              "</div>\n",
              "    </div>\n",
              "  </div>\n"
            ]
          },
          "metadata": {},
          "execution_count": 69
        }
      ]
    },
    {
      "cell_type": "markdown",
      "source": [
        "- Tratando o arquivo para eliminar as linhas e colunas nulas"
      ],
      "metadata": {
        "id": "dm0-f9SEhL3t"
      }
    },
    {
      "cell_type": "code",
      "source": [
        "#Eliminar a coluna que só tem valores nulos\n",
        "df = df.drop('A', axis=1)"
      ],
      "metadata": {
        "id": "EJjSqjfeiOXE"
      },
      "execution_count": null,
      "outputs": []
    },
    {
      "cell_type": "code",
      "source": [
        "#Eliminar as linhas com valores nulos, ou com valores que não vão ser utilizados na nossa análise\n",
        "df = df.drop([0,1,2,3], axis=0)"
      ],
      "metadata": {
        "id": "JokBPxm0WQqC"
      },
      "execution_count": null,
      "outputs": []
    },
    {
      "cell_type": "code",
      "source": [
        "#Traduzindo o nome das linhas\n",
        "df.at[4,'Causas de saída'] = 'Treinamento'\n",
        "df.at[5,'Causas de saída'] = 'Conflito com outros'\n",
        "df.at[6,'Causas de saída'] = 'Falta de reconhecimento'\n",
        "df.at[7,'Causas de saída'] = 'Carga horária'\n",
        "df.at[8,'Causas de saída'] = 'Progressão de carreira'\n",
        "df.at[9,'Causas de saída'] = 'Remuneração'\n",
        "df.at[10,'Causas de saída'] = 'Tipo de trabalho'\n",
        "df.at[11,'Causas de saída'] = 'Mudança de carreira'\n",
        "df.at[12,'Causas de saída'] = 'Trajeto'\n",
        "df.at[13,'Causas de saída'] = 'Realocação'\n",
        "df.at[14,'Causas de saída'] = 'Doença'"
      ],
      "metadata": {
        "id": "rvfLOX3GWftB"
      },
      "execution_count": null,
      "outputs": []
    },
    {
      "cell_type": "code",
      "source": [
        "df"
      ],
      "metadata": {
        "colab": {
          "base_uri": "https://localhost:8080/",
          "height": 394
        },
        "id": "lplryn-cU8GT",
        "outputId": "214c7a15-1a94-4169-e89b-d111b0a3cb74"
      },
      "execution_count": null,
      "outputs": [
        {
          "output_type": "execute_result",
          "data": {
            "text/plain": [
              "            Causas de saída Capacidade de Impactar Parceiro RH  \\\n",
              "4               Treinamento                     11          31   \n",
              "5       Conflito com outros                     10          11   \n",
              "6   Falta de reconhecimento                      9          65   \n",
              "7             Carga horária                      8          14   \n",
              "8    Progressão de carreira                      7         137   \n",
              "9               Remuneração                      6          16   \n",
              "10         Tipo de trabalho                      5         128   \n",
              "11      Mudança de carreira                      4          18   \n",
              "12                  Trajeto                      3          31   \n",
              "13               Realocação                      2         105   \n",
              "14                   Doença                      1           9   \n",
              "\n",
              "   Entrevista de saída(ex-funcionario)  \n",
              "4                                   23  \n",
              "5                                   15  \n",
              "6                                   44  \n",
              "7                                   39  \n",
              "8                                  171  \n",
              "9                                   24  \n",
              "10                                  78  \n",
              "11                                  30  \n",
              "12                                  22  \n",
              "13                                  37  \n",
              "14                                  21  "
            ],
            "text/html": [
              "\n",
              "  <div id=\"df-dedda0bd-179f-4b74-b946-ce8318810463\" class=\"colab-df-container\">\n",
              "    <div>\n",
              "<style scoped>\n",
              "    .dataframe tbody tr th:only-of-type {\n",
              "        vertical-align: middle;\n",
              "    }\n",
              "\n",
              "    .dataframe tbody tr th {\n",
              "        vertical-align: top;\n",
              "    }\n",
              "\n",
              "    .dataframe thead th {\n",
              "        text-align: right;\n",
              "    }\n",
              "</style>\n",
              "<table border=\"1\" class=\"dataframe\">\n",
              "  <thead>\n",
              "    <tr style=\"text-align: right;\">\n",
              "      <th></th>\n",
              "      <th>Causas de saída</th>\n",
              "      <th>Capacidade de Impactar</th>\n",
              "      <th>Parceiro RH</th>\n",
              "      <th>Entrevista de saída(ex-funcionario)</th>\n",
              "    </tr>\n",
              "  </thead>\n",
              "  <tbody>\n",
              "    <tr>\n",
              "      <th>4</th>\n",
              "      <td>Treinamento</td>\n",
              "      <td>11</td>\n",
              "      <td>31</td>\n",
              "      <td>23</td>\n",
              "    </tr>\n",
              "    <tr>\n",
              "      <th>5</th>\n",
              "      <td>Conflito com outros</td>\n",
              "      <td>10</td>\n",
              "      <td>11</td>\n",
              "      <td>15</td>\n",
              "    </tr>\n",
              "    <tr>\n",
              "      <th>6</th>\n",
              "      <td>Falta de reconhecimento</td>\n",
              "      <td>9</td>\n",
              "      <td>65</td>\n",
              "      <td>44</td>\n",
              "    </tr>\n",
              "    <tr>\n",
              "      <th>7</th>\n",
              "      <td>Carga horária</td>\n",
              "      <td>8</td>\n",
              "      <td>14</td>\n",
              "      <td>39</td>\n",
              "    </tr>\n",
              "    <tr>\n",
              "      <th>8</th>\n",
              "      <td>Progressão de carreira</td>\n",
              "      <td>7</td>\n",
              "      <td>137</td>\n",
              "      <td>171</td>\n",
              "    </tr>\n",
              "    <tr>\n",
              "      <th>9</th>\n",
              "      <td>Remuneração</td>\n",
              "      <td>6</td>\n",
              "      <td>16</td>\n",
              "      <td>24</td>\n",
              "    </tr>\n",
              "    <tr>\n",
              "      <th>10</th>\n",
              "      <td>Tipo de trabalho</td>\n",
              "      <td>5</td>\n",
              "      <td>128</td>\n",
              "      <td>78</td>\n",
              "    </tr>\n",
              "    <tr>\n",
              "      <th>11</th>\n",
              "      <td>Mudança de carreira</td>\n",
              "      <td>4</td>\n",
              "      <td>18</td>\n",
              "      <td>30</td>\n",
              "    </tr>\n",
              "    <tr>\n",
              "      <th>12</th>\n",
              "      <td>Trajeto</td>\n",
              "      <td>3</td>\n",
              "      <td>31</td>\n",
              "      <td>22</td>\n",
              "    </tr>\n",
              "    <tr>\n",
              "      <th>13</th>\n",
              "      <td>Realocação</td>\n",
              "      <td>2</td>\n",
              "      <td>105</td>\n",
              "      <td>37</td>\n",
              "    </tr>\n",
              "    <tr>\n",
              "      <th>14</th>\n",
              "      <td>Doença</td>\n",
              "      <td>1</td>\n",
              "      <td>9</td>\n",
              "      <td>21</td>\n",
              "    </tr>\n",
              "  </tbody>\n",
              "</table>\n",
              "</div>\n",
              "    <div class=\"colab-df-buttons\">\n",
              "\n",
              "  <div class=\"colab-df-container\">\n",
              "    <button class=\"colab-df-convert\" onclick=\"convertToInteractive('df-dedda0bd-179f-4b74-b946-ce8318810463')\"\n",
              "            title=\"Convert this dataframe to an interactive table.\"\n",
              "            style=\"display:none;\">\n",
              "\n",
              "  <svg xmlns=\"http://www.w3.org/2000/svg\" height=\"24px\" viewBox=\"0 -960 960 960\">\n",
              "    <path d=\"M120-120v-720h720v720H120Zm60-500h600v-160H180v160Zm220 220h160v-160H400v160Zm0 220h160v-160H400v160ZM180-400h160v-160H180v160Zm440 0h160v-160H620v160ZM180-180h160v-160H180v160Zm440 0h160v-160H620v160Z\"/>\n",
              "  </svg>\n",
              "    </button>\n",
              "\n",
              "  <style>\n",
              "    .colab-df-container {\n",
              "      display:flex;\n",
              "      gap: 12px;\n",
              "    }\n",
              "\n",
              "    .colab-df-convert {\n",
              "      background-color: #E8F0FE;\n",
              "      border: none;\n",
              "      border-radius: 50%;\n",
              "      cursor: pointer;\n",
              "      display: none;\n",
              "      fill: #1967D2;\n",
              "      height: 32px;\n",
              "      padding: 0 0 0 0;\n",
              "      width: 32px;\n",
              "    }\n",
              "\n",
              "    .colab-df-convert:hover {\n",
              "      background-color: #E2EBFA;\n",
              "      box-shadow: 0px 1px 2px rgba(60, 64, 67, 0.3), 0px 1px 3px 1px rgba(60, 64, 67, 0.15);\n",
              "      fill: #174EA6;\n",
              "    }\n",
              "\n",
              "    .colab-df-buttons div {\n",
              "      margin-bottom: 4px;\n",
              "    }\n",
              "\n",
              "    [theme=dark] .colab-df-convert {\n",
              "      background-color: #3B4455;\n",
              "      fill: #D2E3FC;\n",
              "    }\n",
              "\n",
              "    [theme=dark] .colab-df-convert:hover {\n",
              "      background-color: #434B5C;\n",
              "      box-shadow: 0px 1px 3px 1px rgba(0, 0, 0, 0.15);\n",
              "      filter: drop-shadow(0px 1px 2px rgba(0, 0, 0, 0.3));\n",
              "      fill: #FFFFFF;\n",
              "    }\n",
              "  </style>\n",
              "\n",
              "    <script>\n",
              "      const buttonEl =\n",
              "        document.querySelector('#df-dedda0bd-179f-4b74-b946-ce8318810463 button.colab-df-convert');\n",
              "      buttonEl.style.display =\n",
              "        google.colab.kernel.accessAllowed ? 'block' : 'none';\n",
              "\n",
              "      async function convertToInteractive(key) {\n",
              "        const element = document.querySelector('#df-dedda0bd-179f-4b74-b946-ce8318810463');\n",
              "        const dataTable =\n",
              "          await google.colab.kernel.invokeFunction('convertToInteractive',\n",
              "                                                    [key], {});\n",
              "        if (!dataTable) return;\n",
              "\n",
              "        const docLinkHtml = 'Like what you see? Visit the ' +\n",
              "          '<a target=\"_blank\" href=https://colab.research.google.com/notebooks/data_table.ipynb>data table notebook</a>'\n",
              "          + ' to learn more about interactive tables.';\n",
              "        element.innerHTML = '';\n",
              "        dataTable['output_type'] = 'display_data';\n",
              "        await google.colab.output.renderOutput(dataTable, element);\n",
              "        const docLink = document.createElement('div');\n",
              "        docLink.innerHTML = docLinkHtml;\n",
              "        element.appendChild(docLink);\n",
              "      }\n",
              "    </script>\n",
              "  </div>\n",
              "\n",
              "\n",
              "<div id=\"df-8a3b43a8-104c-4030-98c0-779fa01c77ed\">\n",
              "  <button class=\"colab-df-quickchart\" onclick=\"quickchart('df-8a3b43a8-104c-4030-98c0-779fa01c77ed')\"\n",
              "            title=\"Suggest charts.\"\n",
              "            style=\"display:none;\">\n",
              "\n",
              "<svg xmlns=\"http://www.w3.org/2000/svg\" height=\"24px\"viewBox=\"0 0 24 24\"\n",
              "     width=\"24px\">\n",
              "    <g>\n",
              "        <path d=\"M19 3H5c-1.1 0-2 .9-2 2v14c0 1.1.9 2 2 2h14c1.1 0 2-.9 2-2V5c0-1.1-.9-2-2-2zM9 17H7v-7h2v7zm4 0h-2V7h2v10zm4 0h-2v-4h2v4z\"/>\n",
              "    </g>\n",
              "</svg>\n",
              "  </button>\n",
              "\n",
              "<style>\n",
              "  .colab-df-quickchart {\n",
              "    background-color: #E8F0FE;\n",
              "    border: none;\n",
              "    border-radius: 50%;\n",
              "    cursor: pointer;\n",
              "    display: none;\n",
              "    fill: #1967D2;\n",
              "    height: 32px;\n",
              "    padding: 0 0 0 0;\n",
              "    width: 32px;\n",
              "  }\n",
              "\n",
              "  .colab-df-quickchart:hover {\n",
              "    background-color: #E2EBFA;\n",
              "    box-shadow: 0px 1px 2px rgba(60, 64, 67, 0.3), 0px 1px 3px 1px rgba(60, 64, 67, 0.15);\n",
              "    fill: #174EA6;\n",
              "  }\n",
              "\n",
              "  [theme=dark] .colab-df-quickchart {\n",
              "    background-color: #3B4455;\n",
              "    fill: #D2E3FC;\n",
              "  }\n",
              "\n",
              "  [theme=dark] .colab-df-quickchart:hover {\n",
              "    background-color: #434B5C;\n",
              "    box-shadow: 0px 1px 3px 1px rgba(0, 0, 0, 0.15);\n",
              "    filter: drop-shadow(0px 1px 2px rgba(0, 0, 0, 0.3));\n",
              "    fill: #FFFFFF;\n",
              "  }\n",
              "</style>\n",
              "\n",
              "  <script>\n",
              "    async function quickchart(key) {\n",
              "      const charts = await google.colab.kernel.invokeFunction(\n",
              "          'suggestCharts', [key], {});\n",
              "    }\n",
              "    (() => {\n",
              "      let quickchartButtonEl =\n",
              "        document.querySelector('#df-8a3b43a8-104c-4030-98c0-779fa01c77ed button');\n",
              "      quickchartButtonEl.style.display =\n",
              "        google.colab.kernel.accessAllowed ? 'block' : 'none';\n",
              "    })();\n",
              "  </script>\n",
              "</div>\n",
              "    </div>\n",
              "  </div>\n"
            ]
          },
          "metadata": {},
          "execution_count": 73
        }
      ]
    },
    {
      "cell_type": "markdown",
      "source": [
        "- Vamos verificar o qual é o tipo de valores no nosso DataFrame, para fazer a conversão se necessário."
      ],
      "metadata": {
        "id": "rFpX_iMMbWDQ"
      }
    },
    {
      "cell_type": "code",
      "source": [
        "df.dtypes"
      ],
      "metadata": {
        "colab": {
          "base_uri": "https://localhost:8080/"
        },
        "id": "YODhOnNfa9np",
        "outputId": "fa20af4c-e67c-4d72-f51c-699fdb63a342"
      },
      "execution_count": null,
      "outputs": [
        {
          "output_type": "execute_result",
          "data": {
            "text/plain": [
              "Causas de saída                        object\n",
              "Capacidade de Impactar                 object\n",
              "Parceiro RH                            object\n",
              "Entrevista de saída(ex-funcionario)    object\n",
              "dtype: object"
            ]
          },
          "metadata": {},
          "execution_count": 74
        }
      ]
    },
    {
      "cell_type": "markdown",
      "source": [
        "- Com todas as colunas do tipo 'object' nós não conseguimos fazer determinadas funções, então precisamos mudar nas colunas e linhas que são números para o tipo 'int"
      ],
      "metadata": {
        "id": "3guZ9xMEbeyo"
      }
    },
    {
      "cell_type": "code",
      "source": [
        "#Convertendo o tipo de valor das colunas\n",
        "df['Capacidade de Impactar'] = df['Capacidade de Impactar'].astype(int)\n",
        "df['Parceiro RH'] = df['Parceiro RH'].astype(int)\n",
        "df['Entrevista de saída(ex-funcionario)'] = df['Entrevista de saída(ex-funcionario)'].astype(int)"
      ],
      "metadata": {
        "id": "YwfZsWIMbvca"
      },
      "execution_count": null,
      "outputs": []
    },
    {
      "cell_type": "code",
      "source": [
        "#Verificando se a conversão foi feita com sucesso\n",
        "df.dtypes"
      ],
      "metadata": {
        "colab": {
          "base_uri": "https://localhost:8080/"
        },
        "id": "9xnG5DC7e_2p",
        "outputId": "ba971172-16d7-457c-b544-f4f11a112e2a"
      },
      "execution_count": null,
      "outputs": [
        {
          "output_type": "execute_result",
          "data": {
            "text/plain": [
              "Causas de saída                        object\n",
              "Capacidade de Impactar                  int64\n",
              "Parceiro RH                             int64\n",
              "Entrevista de saída(ex-funcionario)     int64\n",
              "dtype: object"
            ]
          },
          "metadata": {},
          "execution_count": 77
        }
      ]
    },
    {
      "cell_type": "markdown",
      "source": [
        "###Análise"
      ],
      "metadata": {
        "id": "kN7OJ8EfhghQ"
      }
    },
    {
      "cell_type": "markdown",
      "source": [
        "- Para nossa análise exploratória iremos utilizar o Parceiro RH(HRBP) que é uma empresa ou pessoa qualificada para análisar o fluxo de funcionarios, e a entrevista de saída que são feitas com os funcionarios que estão deixando a empresa"
      ],
      "metadata": {
        "id": "SFHWOpD2Zjlp"
      }
    },
    {
      "cell_type": "code",
      "source": [
        "# Para isso vamos apagar a coluna Capacidade de Impactar\n",
        "df = df.drop('Capacidade de Impactar', axis=1)"
      ],
      "metadata": {
        "id": "R8AaVEmEaAmh"
      },
      "execution_count": null,
      "outputs": []
    },
    {
      "cell_type": "code",
      "source": [
        "df"
      ],
      "metadata": {
        "colab": {
          "base_uri": "https://localhost:8080/",
          "height": 394
        },
        "id": "3WHFJEriaOj5",
        "outputId": "d71758da-8580-4797-9249-f9cd618bb37e"
      },
      "execution_count": null,
      "outputs": [
        {
          "output_type": "execute_result",
          "data": {
            "text/plain": [
              "            Causas de saída  Parceiro RH  Entrevista de saída(ex-funcionario)\n",
              "4               Treinamento           31                                   23\n",
              "5       Conflito com outros           11                                   15\n",
              "6   Falta de reconhecimento           65                                   44\n",
              "7             Carga horária           14                                   39\n",
              "8    Progressão de carreira          137                                  171\n",
              "9               Remuneração           16                                   24\n",
              "10         Tipo de trabalho          128                                   78\n",
              "11      Mudança de carreira           18                                   30\n",
              "12                  Trajeto           31                                   22\n",
              "13               Realocação          105                                   37\n",
              "14                   Doença            9                                   21"
            ],
            "text/html": [
              "\n",
              "  <div id=\"df-4fcabcea-4f0b-400c-9f23-c3545abdbb4d\" class=\"colab-df-container\">\n",
              "    <div>\n",
              "<style scoped>\n",
              "    .dataframe tbody tr th:only-of-type {\n",
              "        vertical-align: middle;\n",
              "    }\n",
              "\n",
              "    .dataframe tbody tr th {\n",
              "        vertical-align: top;\n",
              "    }\n",
              "\n",
              "    .dataframe thead th {\n",
              "        text-align: right;\n",
              "    }\n",
              "</style>\n",
              "<table border=\"1\" class=\"dataframe\">\n",
              "  <thead>\n",
              "    <tr style=\"text-align: right;\">\n",
              "      <th></th>\n",
              "      <th>Causas de saída</th>\n",
              "      <th>Parceiro RH</th>\n",
              "      <th>Entrevista de saída(ex-funcionario)</th>\n",
              "    </tr>\n",
              "  </thead>\n",
              "  <tbody>\n",
              "    <tr>\n",
              "      <th>4</th>\n",
              "      <td>Treinamento</td>\n",
              "      <td>31</td>\n",
              "      <td>23</td>\n",
              "    </tr>\n",
              "    <tr>\n",
              "      <th>5</th>\n",
              "      <td>Conflito com outros</td>\n",
              "      <td>11</td>\n",
              "      <td>15</td>\n",
              "    </tr>\n",
              "    <tr>\n",
              "      <th>6</th>\n",
              "      <td>Falta de reconhecimento</td>\n",
              "      <td>65</td>\n",
              "      <td>44</td>\n",
              "    </tr>\n",
              "    <tr>\n",
              "      <th>7</th>\n",
              "      <td>Carga horária</td>\n",
              "      <td>14</td>\n",
              "      <td>39</td>\n",
              "    </tr>\n",
              "    <tr>\n",
              "      <th>8</th>\n",
              "      <td>Progressão de carreira</td>\n",
              "      <td>137</td>\n",
              "      <td>171</td>\n",
              "    </tr>\n",
              "    <tr>\n",
              "      <th>9</th>\n",
              "      <td>Remuneração</td>\n",
              "      <td>16</td>\n",
              "      <td>24</td>\n",
              "    </tr>\n",
              "    <tr>\n",
              "      <th>10</th>\n",
              "      <td>Tipo de trabalho</td>\n",
              "      <td>128</td>\n",
              "      <td>78</td>\n",
              "    </tr>\n",
              "    <tr>\n",
              "      <th>11</th>\n",
              "      <td>Mudança de carreira</td>\n",
              "      <td>18</td>\n",
              "      <td>30</td>\n",
              "    </tr>\n",
              "    <tr>\n",
              "      <th>12</th>\n",
              "      <td>Trajeto</td>\n",
              "      <td>31</td>\n",
              "      <td>22</td>\n",
              "    </tr>\n",
              "    <tr>\n",
              "      <th>13</th>\n",
              "      <td>Realocação</td>\n",
              "      <td>105</td>\n",
              "      <td>37</td>\n",
              "    </tr>\n",
              "    <tr>\n",
              "      <th>14</th>\n",
              "      <td>Doença</td>\n",
              "      <td>9</td>\n",
              "      <td>21</td>\n",
              "    </tr>\n",
              "  </tbody>\n",
              "</table>\n",
              "</div>\n",
              "    <div class=\"colab-df-buttons\">\n",
              "\n",
              "  <div class=\"colab-df-container\">\n",
              "    <button class=\"colab-df-convert\" onclick=\"convertToInteractive('df-4fcabcea-4f0b-400c-9f23-c3545abdbb4d')\"\n",
              "            title=\"Convert this dataframe to an interactive table.\"\n",
              "            style=\"display:none;\">\n",
              "\n",
              "  <svg xmlns=\"http://www.w3.org/2000/svg\" height=\"24px\" viewBox=\"0 -960 960 960\">\n",
              "    <path d=\"M120-120v-720h720v720H120Zm60-500h600v-160H180v160Zm220 220h160v-160H400v160Zm0 220h160v-160H400v160ZM180-400h160v-160H180v160Zm440 0h160v-160H620v160ZM180-180h160v-160H180v160Zm440 0h160v-160H620v160Z\"/>\n",
              "  </svg>\n",
              "    </button>\n",
              "\n",
              "  <style>\n",
              "    .colab-df-container {\n",
              "      display:flex;\n",
              "      gap: 12px;\n",
              "    }\n",
              "\n",
              "    .colab-df-convert {\n",
              "      background-color: #E8F0FE;\n",
              "      border: none;\n",
              "      border-radius: 50%;\n",
              "      cursor: pointer;\n",
              "      display: none;\n",
              "      fill: #1967D2;\n",
              "      height: 32px;\n",
              "      padding: 0 0 0 0;\n",
              "      width: 32px;\n",
              "    }\n",
              "\n",
              "    .colab-df-convert:hover {\n",
              "      background-color: #E2EBFA;\n",
              "      box-shadow: 0px 1px 2px rgba(60, 64, 67, 0.3), 0px 1px 3px 1px rgba(60, 64, 67, 0.15);\n",
              "      fill: #174EA6;\n",
              "    }\n",
              "\n",
              "    .colab-df-buttons div {\n",
              "      margin-bottom: 4px;\n",
              "    }\n",
              "\n",
              "    [theme=dark] .colab-df-convert {\n",
              "      background-color: #3B4455;\n",
              "      fill: #D2E3FC;\n",
              "    }\n",
              "\n",
              "    [theme=dark] .colab-df-convert:hover {\n",
              "      background-color: #434B5C;\n",
              "      box-shadow: 0px 1px 3px 1px rgba(0, 0, 0, 0.15);\n",
              "      filter: drop-shadow(0px 1px 2px rgba(0, 0, 0, 0.3));\n",
              "      fill: #FFFFFF;\n",
              "    }\n",
              "  </style>\n",
              "\n",
              "    <script>\n",
              "      const buttonEl =\n",
              "        document.querySelector('#df-4fcabcea-4f0b-400c-9f23-c3545abdbb4d button.colab-df-convert');\n",
              "      buttonEl.style.display =\n",
              "        google.colab.kernel.accessAllowed ? 'block' : 'none';\n",
              "\n",
              "      async function convertToInteractive(key) {\n",
              "        const element = document.querySelector('#df-4fcabcea-4f0b-400c-9f23-c3545abdbb4d');\n",
              "        const dataTable =\n",
              "          await google.colab.kernel.invokeFunction('convertToInteractive',\n",
              "                                                    [key], {});\n",
              "        if (!dataTable) return;\n",
              "\n",
              "        const docLinkHtml = 'Like what you see? Visit the ' +\n",
              "          '<a target=\"_blank\" href=https://colab.research.google.com/notebooks/data_table.ipynb>data table notebook</a>'\n",
              "          + ' to learn more about interactive tables.';\n",
              "        element.innerHTML = '';\n",
              "        dataTable['output_type'] = 'display_data';\n",
              "        await google.colab.output.renderOutput(dataTable, element);\n",
              "        const docLink = document.createElement('div');\n",
              "        docLink.innerHTML = docLinkHtml;\n",
              "        element.appendChild(docLink);\n",
              "      }\n",
              "    </script>\n",
              "  </div>\n",
              "\n",
              "\n",
              "<div id=\"df-0d81b6d1-2505-42f4-91d2-88e92826168f\">\n",
              "  <button class=\"colab-df-quickchart\" onclick=\"quickchart('df-0d81b6d1-2505-42f4-91d2-88e92826168f')\"\n",
              "            title=\"Suggest charts.\"\n",
              "            style=\"display:none;\">\n",
              "\n",
              "<svg xmlns=\"http://www.w3.org/2000/svg\" height=\"24px\"viewBox=\"0 0 24 24\"\n",
              "     width=\"24px\">\n",
              "    <g>\n",
              "        <path d=\"M19 3H5c-1.1 0-2 .9-2 2v14c0 1.1.9 2 2 2h14c1.1 0 2-.9 2-2V5c0-1.1-.9-2-2-2zM9 17H7v-7h2v7zm4 0h-2V7h2v10zm4 0h-2v-4h2v4z\"/>\n",
              "    </g>\n",
              "</svg>\n",
              "  </button>\n",
              "\n",
              "<style>\n",
              "  .colab-df-quickchart {\n",
              "    background-color: #E8F0FE;\n",
              "    border: none;\n",
              "    border-radius: 50%;\n",
              "    cursor: pointer;\n",
              "    display: none;\n",
              "    fill: #1967D2;\n",
              "    height: 32px;\n",
              "    padding: 0 0 0 0;\n",
              "    width: 32px;\n",
              "  }\n",
              "\n",
              "  .colab-df-quickchart:hover {\n",
              "    background-color: #E2EBFA;\n",
              "    box-shadow: 0px 1px 2px rgba(60, 64, 67, 0.3), 0px 1px 3px 1px rgba(60, 64, 67, 0.15);\n",
              "    fill: #174EA6;\n",
              "  }\n",
              "\n",
              "  [theme=dark] .colab-df-quickchart {\n",
              "    background-color: #3B4455;\n",
              "    fill: #D2E3FC;\n",
              "  }\n",
              "\n",
              "  [theme=dark] .colab-df-quickchart:hover {\n",
              "    background-color: #434B5C;\n",
              "    box-shadow: 0px 1px 3px 1px rgba(0, 0, 0, 0.15);\n",
              "    filter: drop-shadow(0px 1px 2px rgba(0, 0, 0, 0.3));\n",
              "    fill: #FFFFFF;\n",
              "  }\n",
              "</style>\n",
              "\n",
              "  <script>\n",
              "    async function quickchart(key) {\n",
              "      const charts = await google.colab.kernel.invokeFunction(\n",
              "          'suggestCharts', [key], {});\n",
              "    }\n",
              "    (() => {\n",
              "      let quickchartButtonEl =\n",
              "        document.querySelector('#df-0d81b6d1-2505-42f4-91d2-88e92826168f button');\n",
              "      quickchartButtonEl.style.display =\n",
              "        google.colab.kernel.accessAllowed ? 'block' : 'none';\n",
              "    })();\n",
              "  </script>\n",
              "</div>\n",
              "    </div>\n",
              "  </div>\n"
            ]
          },
          "metadata": {},
          "execution_count": 79
        }
      ]
    },
    {
      "cell_type": "markdown",
      "source": [
        "- Para verificar qual é o maior causador de saídas, segundo os ex-funcionarios vamos utilizar a função max(), que ela irá identificar o maior valor da coluna e para a nossa análise vai ser o suficiente para verificar o maior causador de saídas nessa primeira parte."
      ],
      "metadata": {
        "id": "QBzZpUYdaVgA"
      }
    },
    {
      "cell_type": "code",
      "source": [
        "#Com o comando max, verificamos qual é o maior valor da coluna\n",
        "df['Entrevista de saída(ex-funcionario)'].max()"
      ],
      "metadata": {
        "colab": {
          "base_uri": "https://localhost:8080/"
        },
        "id": "L6UPyAO6aU9Q",
        "outputId": "08c8db06-4d85-4c02-d5e8-d76beb1fc243"
      },
      "execution_count": null,
      "outputs": [
        {
          "output_type": "execute_result",
          "data": {
            "text/plain": [
              "171"
            ]
          },
          "metadata": {},
          "execution_count": 81
        }
      ]
    },
    {
      "cell_type": "markdown",
      "source": [
        "- - O maior causador de saídas segundo os ex-funcionarios seria a progressão de carreira, a oportunidade de crescimento dentro da empresa."
      ],
      "metadata": {
        "id": "FMkmKdVFfVux"
      }
    },
    {
      "cell_type": "markdown",
      "source": [
        "- Agora vamos verificar segundo o Parceiro RH(HRBP) qual é o maior causador de saídas"
      ],
      "metadata": {
        "id": "swhFgdv_f0Yb"
      }
    },
    {
      "cell_type": "code",
      "source": [
        "df['Parceiro RH'].max()"
      ],
      "metadata": {
        "colab": {
          "base_uri": "https://localhost:8080/"
        },
        "id": "1WouPKJlfVU3",
        "outputId": "a669797d-9a86-4aa0-aba1-2418005df2e2"
      },
      "execution_count": null,
      "outputs": [
        {
          "output_type": "execute_result",
          "data": {
            "text/plain": [
              "137"
            ]
          },
          "metadata": {},
          "execution_count": 82
        }
      ]
    },
    {
      "cell_type": "markdown",
      "source": [
        "- - Segundo o Parceiro RH, o maior causador de saídas da empresa também é a progressão de carreira"
      ],
      "metadata": {
        "id": "9eDin9lUgHtR"
      }
    },
    {
      "cell_type": "markdown",
      "source": [
        "### Conclusão"
      ],
      "metadata": {
        "id": "vyAg2MImhUMK"
      }
    },
    {
      "cell_type": "markdown",
      "source": [
        "- <font color = darkblue> Com base na análise exploratória realizada, concluímos que o principal motivo para a saída dos funcionários é a progressão de carreira. Isso indica que os funcionários estão buscando oportunidades de crescimento e desenvolvimento em suas carreiras, e podem não estar encontrando essas oportunidades dentro da empresa. É importante que a empresa avalie suas políticas de progressão de carreira e desenvolvimento profissional para garantir que os funcionários tenham oportunidades de crescimento e se sintam valorizados. Isso pode ajudar a reter talentos e reduzir a rotatividade de funcionários."
      ],
      "metadata": {
        "id": "wEsCgxW5gWHo"
      }
    },
    {
      "cell_type": "markdown",
      "source": [
        "### Links para visualização dos gráficos e do dashboard"
      ],
      "metadata": {
        "id": "IwnWAS-sy9DN"
      }
    },
    {
      "cell_type": "markdown",
      "source": [
        "\n",
        "- Mapa de árvore:\n",
        "\n",
        "https://public.tableau.com/app/profile/jo.o.vitor.cunha/viz/Mapadervore_16931680767340/Mapadervore\n",
        "\n",
        "- Gráfico de barras duplas:\n",
        "\n",
        "https://public.tableau.com/app/profile/jo.o.vitor.cunha/viz/GrficodeBarrasLadoaLado/GrficodeBarras\n",
        "\n",
        "- Gráfico de barras horizontais:\n",
        "\n",
        "https://public.tableau.com/app/profile/jo.o.vitor.cunha/viz/GrficodeBarrasHorizontais/GrficodeBarrasDeitadas\n",
        "\n",
        "- Dashboard com interação no mapa de árvore:\n",
        "\n",
        "https://public.tableau.com/app/profile/jo.o.vitor.cunha/viz/DashboardMdulo5/Dashboard"
      ],
      "metadata": {
        "id": "B6OK1v51yKpn"
      }
    }
  ]
}